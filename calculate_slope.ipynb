{
 "cells": [
  {
   "cell_type": "code",
   "execution_count": 3,
   "id": "7446341c-7f97-4e73-b7f2-af118ca3345e",
   "metadata": {},
   "outputs": [],
   "source": [
    "# IMPORT PACKAGES\n",
    "import matplotlib.pyplot as plt\n",
    "import matplotlib.colors as colors\n",
    "from matplotlib.colors import ListedColormap, BoundaryNorm\n",
    "import geopandas as gpd\n",
    "import rasterio\n",
    "import numpy as np\n",
    "import pandas as pd\n",
    "import shapefile\n",
    "import os\n",
    "\n",
    "import netCDF4 as nc\n",
    "from netCDF4 import Dataset\n",
    "from shapely.geometry import Point, shape, box, mapping\n",
    "from shapely.vectorized import contains\n",
    "from shapely.strtree import STRtree\n",
    "\n",
    "from rasterio.coords import BoundingBox\n",
    "from rasterio.mask import mask\n",
    "from rasterio.plot import show\n",
    "from rasterio.features import shapes\n",
    "\n",
    "import rasterio\n",
    "from rasterio.mask import mask\n",
    "import geopandas as gpd\n",
    "import numpy as np\n",
    "from scipy.ndimage import sobel"
   ]
  },
  {
   "cell_type": "code",
   "execution_count": 4,
   "id": "daa51643-5364-4462-ab95-41faf077c277",
   "metadata": {},
   "outputs": [
    {
     "name": "stdout",
     "output_type": "stream",
     "text": [
      "Loaded 553 stations.\n"
     ]
    }
   ],
   "source": [
    "# DEFINE INPUTS FOR FUNCTION\n",
    "masterlist = '/global/scratch/users/arvalcarcel/CSMUB/RESULTS/ALL_STATIONS_FINAL_REVISED.csv'\n",
    "\n",
    "full_df = pd.read_csv(masterlist)\n",
    "station_num = full_df['grdc_no']\n",
    "full_df['average_slope'] = np.nan\n",
    "\n",
    "print(f\"Loaded {len(station_num)} stations.\")"
   ]
  },
  {
   "cell_type": "code",
   "execution_count": 5,
   "id": "b4ef68e8-808e-4f0b-92d4-881a48462611",
   "metadata": {},
   "outputs": [],
   "source": [
    "# for i in range(0):\n",
    "i = 0\n",
    "data = full_df.iloc[i]\n",
    "number = data['grdc_no']\n",
    "region = data['wmo_reg']\n",
    "river = data['river']\n",
    "name = data['station']\n",
    "lat = data['lat']\n",
    "lon = data['long']\n",
    "area = data['area']\n",
    "altitude = data['altitude']\n",
    "shp_log = data['shapefile_code']\n",
    "\n",
    "if region == 1:\n",
    "  dem = '/global/scratch/users/arvalcarcel/CSMUB/DATA/DEM/hyd_af_dem_30s.tif'\n",
    "elif region == 2:\n",
    "  dem = '/global/scratch/users/arvalcarcel/CSMUB/DATA/DEM/hyd_as_dem_30s.tif'\n",
    "elif region == 3:\n",
    "  dem = '/global/scratch/users/arvalcarcel/CSMUB/DATA/DEM/hyd_sa_dem_30s.tif'\n",
    "elif region == 4:\n",
    "  dem = '/global/scratch/users/arvalcarcel/CSMUB/DATA/DEM/hyd_na_dem_30s.tif'\n",
    "elif region == 5:\n",
    "  dem = '/global/scratch/users/arvalcarcel/CSMUB/DATA/DEM/hyd_au_dem_30s.tif'\n",
    "elif region == 6:\n",
    "  dem = '/global/scratch/users/arvalcarcel/CSMUB/DATA/DEM/hyd_eu_dem_30s.tif'\n",
    "# output_tif = f'/global/scratch/users/arvalcarcel/CSMUB/DATA/DEM/STATIONS/{number}_dem.tif'"
   ]
  },
  {
   "cell_type": "code",
   "execution_count": 6,
   "id": "c5269202-7bf0-44f8-8f42-9030ebabf7af",
   "metadata": {},
   "outputs": [],
   "source": [
    "# Read the shapefiles\n",
    "shapefile1 = f'/global/scratch/users/arvalcarcel/CSMUB/DATA/DEM/STATIONS/{number}/{number}.shp' # delineated shapefile\n",
    "shapefile2 = f'/global/scratch/users/arvalcarcel/CSMUB/DATA/SHAPEFILES/{number}/{number}.shp' # GRDC shapefile\n",
    "\n",
    "if shp_log == 1:\n",
    "    shapefile = shapefile1\n",
    "\n",
    "elif shp_log == 2:\n",
    "    shapefile = shapefile2"
   ]
  },
  {
   "cell_type": "code",
   "execution_count": 19,
   "id": "f7303199-0f38-41dd-abc4-7143cb178951",
   "metadata": {},
   "outputs": [],
   "source": [
    "def calculate_average_slope(dem_path, shapefile_path):\n",
    "    # Load shapefile\n",
    "    gdf = gpd.read_file(shapefile_path)\n",
    "    print(\"CRS of shapefile:\", gdf.crs)\n",
    "    shapes = gdf.geometry.values\n",
    "\n",
    "    # Load DEM and mask it with the shapefile\n",
    "    with rasterio.open(dem_path) as src:\n",
    "        dem_data, transform = mask(src, shapes, crop=True)\n",
    "        dem_data = dem_data[0].astype('float32')  # Convert to float\n",
    "\n",
    "        if src.nodata is not None:\n",
    "            dem_data[dem_data == src.nodata] = np.nan\n",
    "\n",
    "        # Resolution in degrees\n",
    "        xres_deg, yres_deg = src.res\n",
    "\n",
    "        # Estimate latitude at center of masked area\n",
    "        bounds = src.bounds\n",
    "        center_lat = (bounds.top + bounds.bottom) / 2\n",
    "\n",
    "        # Convert resolution from degrees to meters\n",
    "        meters_per_degree_lat = 111320  # approx constant\n",
    "        meters_per_degree_lon = 111320 * np.cos(np.radians(center_lat))\n",
    "\n",
    "        xres_m = xres_deg * meters_per_degree_lon\n",
    "        yres_m = yres_deg * meters_per_degree_lat\n",
    "\n",
    "    # Compute slope using Sobel filters (rise/run)\n",
    "    dzdx = sobel(dem_data, axis=1, mode='nearest') / (8 * xres_m)\n",
    "    dzdy = sobel(dem_data, axis=0, mode='nearest') / (8 * yres_m)\n",
    "\n",
    "    # Slope in degrees\n",
    "    slope_rad = np.arctan(np.sqrt(dzdx**2 + dzdy**2))\n",
    "    slope_deg = np.degrees(slope_rad)\n",
    "\n",
    "    # Average slope\n",
    "    avg_slope = np.nanmean(slope_deg)\n",
    "    return avg_slope"
   ]
  },
  {
   "cell_type": "code",
   "execution_count": 20,
   "id": "444a1bb7-7be3-47c8-9ad8-8c73fe93af53",
   "metadata": {},
   "outputs": [
    {
     "name": "stdout",
     "output_type": "stream",
     "text": [
      "CRS of shapefile: EPSG:4326\n",
      "Average slope within the area: 0.75 degrees\n"
     ]
    }
   ],
   "source": [
    "# Example usage\n",
    "average_slope = calculate_average_slope(dem, shapefile)\n",
    "print(f\"Average slope within the area: {average_slope:.2f} degrees\")"
   ]
  },
  {
   "cell_type": "code",
   "execution_count": 21,
   "id": "ffa628f9-4e58-42b8-9a30-9a8feb5b3c12",
   "metadata": {},
   "outputs": [
    {
     "name": "stdout",
     "output_type": "stream",
     "text": [
      "   Unnamed: 0  grdc_no  wmo_reg  sub_reg           river  \\\n",
      "0           0  1159100        1     1591    ORANGE RIVER   \n",
      "1           1  1159103        1     1591    ORANGE RIVER   \n",
      "2           2  1159105        1     1591    ORANGE RIVER   \n",
      "3           3  1159125        1     1591  RENOSTERRIVIER   \n",
      "4           4  1159130        1     1591             SAK   \n",
      "\n",
      "                      station country        lat       long      area  ...  \\\n",
      "0       VIOOLSDRIF (27811003)      ZA -28.757990  17.721591  866486.0  ...   \n",
      "1               PELLA MISSION      ZA -28.963403  19.151922  859920.0  ...   \n",
      "2              SENDELINGSDRIF      ZA -28.075833  16.898333  985370.0  ...   \n",
      "3                 LEEUWENKUIL      ZA -31.437160  20.474169    8938.0  ...   \n",
      "4  HOL PADS LEEGTE (27814016)      ZA -30.474712  20.519176   40073.0  ...   \n",
      "\n",
      "   t_start  t_end  t_yrs  lta_discharge  r_volume_yr  r_height_yr  \\\n",
      "0     1935   2024     90        251.426     7.928970     9.150719   \n",
      "1     1979   2024     46        132.007     4.162973     4.841116   \n",
      "2     2014   2024     11         30.913     0.974872     0.989347   \n",
      "3     1987   2023     37          0.487     0.015358     1.718285   \n",
      "4     1973   2024     52          2.358     0.074362     1.855661   \n",
      "\n",
      "   shapefile_code        r2  NaNs  average_slope  \n",
      "0               1  0.323816     6       0.745665  \n",
      "1               1  0.335957     1            NaN  \n",
      "2               1  0.018669    27            NaN  \n",
      "3               1  0.056414     4            NaN  \n",
      "4               1  0.524583     5            NaN  \n",
      "\n",
      "[5 rows x 29 columns]\n"
     ]
    }
   ],
   "source": [
    "# Merge total_df with landcover_df on GRDC_No\n",
    "# Store the average slope in the DataFrame\n",
    "full_df.at[i, 'average_slope'] = average_slope\n",
    "\n",
    "print(full_df.head())"
   ]
  },
  {
   "cell_type": "code",
   "execution_count": null,
   "id": "068f8200-1b95-4b4e-992d-de97c1337929",
   "metadata": {},
   "outputs": [],
   "source": [
    "# full_df.to_csv(masterlist, index=False)\n",
    "# print(pd.read_csv(masterlist))"
   ]
  },
  {
   "cell_type": "code",
   "execution_count": null,
   "id": "9083947f-d92b-4c88-aebd-f09be9fba4de",
   "metadata": {},
   "outputs": [],
   "source": []
  }
 ],
 "metadata": {
  "kernelspec": {
   "display_name": "Python 3 (ipykernel)",
   "language": "python",
   "name": "python3"
  },
  "language_info": {
   "codemirror_mode": {
    "name": "ipython",
    "version": 3
   },
   "file_extension": ".py",
   "mimetype": "text/x-python",
   "name": "python",
   "nbconvert_exporter": "python",
   "pygments_lexer": "ipython3",
   "version": "3.11.7"
  }
 },
 "nbformat": 4,
 "nbformat_minor": 5
}
