{
 "cells": [
  {
   "cell_type": "markdown",
   "metadata": {
    "id": "MPZntKO_5I7F"
   },
   "source": [
    "# CYGNSS Streamflow Modeling for Ungauged Basins (CSMUB)"
   ]
  },
  {
   "cell_type": "markdown",
   "metadata": {
    "id": "mQ3nCiqP5YER"
   },
   "source": [
    "This code combines the delineation of watersheds and the analysis of the CYGNSS watermask files to determine the surface water extent of each basin on a monthly time scale using the functions `crop_dem`, `process_basin` and `waterpx_count`. In addition, the function `read_gauge` loads the empirical streamflow data from text files downloaded from the Global Runoff Data Centre (GRDC) [link text](https://portal.grdc.bafg.de/applications/public.html?publicuser=PublicUser#dataDownload/Home). Lastly, it outputs a .csv file with the station name and the results of the analysis.\n",
    "\n",
    "---\n",
    "\n",
    "\n",
    "Author(s): Anna Valcarcel\n",
    "\n",
    "Date of Creation: May 30, 2024\n",
    "\n",
    "Last Updated: November 19, 2024\n",
    "\n",
    "Version History:\n",
    "*   v0.00 - Initial Version taken from demo codes\n",
    "*   v0.01 - Added data visualization and functionality for reading GRDC data\n",
    "*   v0.02 - Added .txt file readability for station date, functionality for downloading graphics/plots, and location details within plots.\n",
    "\n",
    "*   v1.00 - Added functionality for loading station masterfile, cropping continent-scale DEM files, and calculating intersection of delineated and GRDC shape files to determine which shp to use\n",
    "\n",
    "\n",
    "\n"
   ]
  },
  {
   "cell_type": "markdown",
   "metadata": {
    "id": "Fdx879F_5ZXP"
   },
   "source": [
    "## Importing Packages"
   ]
  },
  {
   "cell_type": "code",
   "execution_count": 1,
   "metadata": {
    "colab": {
     "base_uri": "https://localhost:8080/"
    },
    "executionInfo": {
     "elapsed": 9674,
     "status": "ok",
     "timestamp": 1732175353058,
     "user": {
      "displayName": "Anna Valcarcel",
      "userId": "07227289151518384640"
     },
     "user_tz": 480
    },
    "id": "mT0oQXg9Q2w1",
    "outputId": "ec96ab80-e421-4b2c-a9bc-1ed11383d56d"
   },
   "outputs": [],
   "source": [
    "# !pip install pysheds netCDF4 fiona geopandas xarray pyshp"
   ]
  },
  {
   "cell_type": "code",
   "execution_count": 2,
   "metadata": {
    "executionInfo": {
     "elapsed": 72979,
     "status": "ok",
     "timestamp": 1732175426036,
     "user": {
      "displayName": "Anna Valcarcel",
      "userId": "07227289151518384640"
     },
     "user_tz": 480
    },
    "id": "HOp0Bk0BQwwv"
   },
   "outputs": [],
   "source": [
    "# IMPORT PACKAGES\n",
    "import matplotlib.pyplot as plt\n",
    "import matplotlib.colors as colors\n",
    "import geopandas as gpd\n",
    "import rasterio\n",
    "import numpy as np\n",
    "import pandas as pd\n",
    "import shapefile\n",
    "import os\n",
    "\n",
    "import netCDF4 as nc\n",
    "import geopandas as gpd\n",
    "import numpy as np\n",
    "from affine import Affine  # Fix the missing import\n",
    "import rasterio\n",
    "from rasterio.features import geometry_mask\n",
    "from shapely.geometry import box"
   ]
  },
  {
   "cell_type": "markdown",
   "metadata": {
    "id": "je-eMHa95gxg"
   },
   "source": [
    "## Define Functions"
   ]
  },
  {
   "cell_type": "markdown",
   "metadata": {
    "id": "oexhBPp6-dkr"
   },
   "source": [
    "### Crop NetCDF to Shape"
   ]
  },
  {
   "cell_type": "code",
   "execution_count": 3,
   "metadata": {
    "executionInfo": {
     "elapsed": 161,
     "status": "ok",
     "timestamp": 1732179622119,
     "user": {
      "displayName": "Anna Valcarcel",
      "userId": "07227289151518384640"
     },
     "user_tz": 480
    },
    "id": "WLl8AUaioqMW"
   },
   "outputs": [],
   "source": [
    "def netcdf_totif(netcdf, shp_input, output_tif):\n",
    "\n",
    "    # Load NetCDF file and extract variables\n",
    "    with nc.Dataset(netcdf) as dataset:\n",
    "        watermask = dataset.variables['watermask'][:]\n",
    "        latitude = dataset.variables['lat'][:]\n",
    "        longitude = dataset.variables['lon'][:]\n",
    "    \n",
    "    # Load and reproject the shapefile\n",
    "    shp = gpd.read_file(shp_input).to_crs('EPSG:4326')\n",
    "    \n",
    "    # Clip NetCDF data to shapefile bounding box\n",
    "    minlon, minlat, maxlon, maxlat = shp.geometry.total_bounds\n",
    "    lat_mask = (latitude >= minlat) & (latitude <= maxlat)\n",
    "    lon_mask = (longitude >= minlon) & (longitude <= maxlon)\n",
    "    \n",
    "    watermask = watermask[lat_mask, :][:, lon_mask]\n",
    "    lat_filtered = latitude[lat_mask]\n",
    "    lon_filtered = longitude[lon_mask]\n",
    "    \n",
    "    # Create a mask based on shapefile geometry\n",
    "    transform = Affine(\n",
    "        (lon_filtered[-1] - lon_filtered[0]) / len(lon_filtered), 0, lon_filtered[0],\n",
    "        0, (lat_filtered[-1] - lat_filtered[0]) / len(lat_filtered), lat_filtered[0]\n",
    "    )\n",
    "    \n",
    "    shapes = [geom for geom in shp.geometry]\n",
    "    mask = geometry_mask(shapes, transform=transform, invert=True, out_shape=watermask.shape)\n",
    "    \n",
    "    # Apply mask to the watermask\n",
    "    filtered_watermask = np.where(mask, watermask, np.nan)\n",
    "\n",
    "    # Export to GeoTIFF\n",
    "    with rasterio.open(\n",
    "        output_tif,\n",
    "        'w',\n",
    "        driver='GTiff',\n",
    "        height=filtered_watermask.shape[0],\n",
    "        width=filtered_watermask.shape[1],\n",
    "        count=1,\n",
    "        dtype=filtered_watermask.dtype,\n",
    "        crs='EPSG:4326',\n",
    "        transform=transform,\n",
    "    ) as dst:\n",
    "        dst.write(filtered_watermask, 1)\n"
   ]
  },
  {
   "cell_type": "markdown",
   "metadata": {
    "id": "OrDPOSL65mFp"
   },
   "source": [
    "## Define Filepaths and Open Station Masterfile\n"
   ]
  },
  {
   "cell_type": "code",
   "execution_count": 4,
   "metadata": {
    "colab": {
     "base_uri": "https://localhost:8080/"
    },
    "executionInfo": {
     "elapsed": 17551,
     "status": "ok",
     "timestamp": 1732175443584,
     "user": {
      "displayName": "Anna Valcarcel",
      "userId": "07227289151518384640"
     },
     "user_tz": 480
    },
    "id": "3hmYs52z-_C9",
    "outputId": "f2fcbc0d-6d65-462c-c386-f79f90caaf03"
   },
   "outputs": [],
   "source": [
    "# DEFINE INPUTS FOR FUNCTION\n",
    "masterlist = '/global/scratch/users/arvalcarcel/CSMUB/RESULTS/ALL_STATIONS_FINAL.csv'"
   ]
  },
  {
   "cell_type": "code",
   "execution_count": 5,
   "metadata": {
    "executionInfo": {
     "elapsed": 646,
     "status": "ok",
     "timestamp": 1732175444228,
     "user": {
      "displayName": "Anna Valcarcel",
      "userId": "07227289151518384640"
     },
     "user_tz": 480
    },
    "id": "vhWNA_y8Hp1g"
   },
   "outputs": [],
   "source": [
    "stations_df = pd.read_csv(masterlist)\n",
    "# print(stations_df)\n",
    "# station_num = stations_df['grdc_no']\n",
    "# # station_num"
   ]
  },
  {
   "cell_type": "code",
   "execution_count": 6,
   "metadata": {
    "colab": {
     "base_uri": "https://localhost:8080/"
    },
    "executionInfo": {
     "elapsed": 4,
     "status": "ok",
     "timestamp": 1732175444229,
     "user": {
      "displayName": "Anna Valcarcel",
      "userId": "07227289151518384640"
     },
     "user_tz": 480
    },
    "id": "KJWMls-K_BpZ",
    "outputId": "e0dbd642-6d53-4328-f2d7-33f7eec3af25"
   },
   "outputs": [],
   "source": [
    "# monthly_path = '/global/scratch/users/arvalcarcel/CSMUB/DATA/STATIONS/'\n",
    "\n",
    "# station_files = [os.path.join(monthly_path, f\"{station_no}_Q_Month.txt\") for station_no in station_num]\n",
    "\n",
    "# shp_log = np.zeros(len(station_files))\n",
    "\n",
    "# print(f\"Loaded {len(station_files)} stations.\")"
   ]
  },
  {
   "cell_type": "markdown",
   "metadata": {
    "id": "ZvgWA5Ce53IS"
   },
   "source": [
    "## Loop Through All Stations"
   ]
  },
  {
   "cell_type": "code",
   "execution_count": 7,
   "metadata": {
    "colab": {
     "base_uri": "https://localhost:8080/"
    },
    "executionInfo": {
     "elapsed": 3,
     "status": "ok",
     "timestamp": 1732175444229,
     "user": {
      "displayName": "Anna Valcarcel",
      "userId": "07227289151518384640"
     },
     "user_tz": 480
    },
    "id": "CcDAJRr8Qww8",
    "outputId": "b49ebbf6-78b9-429d-be6d-32945bc60c2f"
   },
   "outputs": [
    {
     "name": "stdout",
     "output_type": "stream",
     "text": [
      "1159100\n",
      "1\n",
      "VIOOLSDRIF (27811003)\n",
      "17.72159144 -28.75798997\n"
     ]
    }
   ],
   "source": [
    "# for i in range(0):\n",
    "i = 0\n",
    "data = stations_df.iloc[i]\n",
    "# print(data)\n",
    "number = data['grdc_no']\n",
    "region = data['wmo_reg']\n",
    "river = data['river']\n",
    "name = data['station']\n",
    "lat = data['lat']\n",
    "lon = data['long']\n",
    "area = data['area']\n",
    "altitude = data['altitude']\n",
    "shp_code = data['shapefile_code']\n",
    "\n",
    "print(number)\n",
    "print(region)\n",
    "print(name)\n",
    "print(lon,lat)"
   ]
  },
  {
   "cell_type": "markdown",
   "metadata": {
    "id": "qoIOpwTXFvfn"
   },
   "source": [
    "### Determine Shapefile for Use"
   ]
  },
  {
   "cell_type": "code",
   "execution_count": 8,
   "metadata": {},
   "outputs": [],
   "source": [
    "# CHOOSE SHAPEFILE BASED ON CODE\n",
    "\n",
    "# Define the path for the new folder\n",
    "new_folder_path = f'/global/scratch/users/arvalcarcel/CSMUB/DATA/DEM/STATIONS/{number}/'\n",
    "\n",
    "# Create new shapefile\n",
    "shp_name = new_folder_path + f'{number}.shp'\n",
    "\n",
    "if shp_code == 1:\n",
    "    shapefile = shp_name\n",
    "elif shp_code == 2:\n",
    "    shapefile = f'/global/scratch/users/arvalcarcel/CSMUB/DATA/DEM/STATIONS/{number}/{number}.shp'"
   ]
  },
  {
   "cell_type": "code",
   "execution_count": 9,
   "metadata": {
    "colab": {
     "base_uri": "https://localhost:8080/",
     "height": 380
    },
    "executionInfo": {
     "elapsed": 686,
     "status": "ok",
     "timestamp": 1732175497096,
     "user": {
      "displayName": "Anna Valcarcel",
      "userId": "07227289151518384640"
     },
     "user_tz": 480
    },
    "id": "980hMO5Vdk7t",
    "outputId": "a3bab65e-85cf-4da0-d024-a401af773bc3"
   },
   "outputs": [],
   "source": [
    "# # Load and reproject shapefile\n",
    "# shp = gpd.read_file(shapefile).to_crs('EPSG:4326')\n",
    "\n",
    "# # Plot using GeoPandas\n",
    "# shp.plot(figsize=(4,4), color='blue', edgecolor='black')\n",
    "# plt.title(\"Shapefile Visualization (EPSG:4326)\")\n",
    "# plt.xlabel(\"Longitude\")\n",
    "# plt.ylabel(\"Latitude\")\n",
    "# plt.show()"
   ]
  },
  {
   "cell_type": "markdown",
   "metadata": {
    "id": "WMPB31CC5V_I"
   },
   "source": [
    "### Get Streamflow Data"
   ]
  },
  {
   "cell_type": "code",
   "execution_count": 10,
   "metadata": {
    "executionInfo": {
     "elapsed": 388,
     "status": "ok",
     "timestamp": 1732175497482,
     "user": {
      "displayName": "Anna Valcarcel",
      "userId": "07227289151518384640"
     },
     "user_tz": 480
    },
    "id": "8KCbIl365Vai"
   },
   "outputs": [],
   "source": [
    "csv_name = f'/global/scratch/users/arvalcarcel/CSMUB/RESULTS/CSV/{number}.csv'\n",
    "station_result = pd.read_csv(csv_name)\n",
    "dates = station_result['Date']"
   ]
  },
  {
   "cell_type": "markdown",
   "metadata": {
    "id": "xmlSVABSGnYS"
   },
   "source": [
    "### Calculate Water Pixel Percent"
   ]
  },
  {
   "cell_type": "code",
   "execution_count": 11,
   "metadata": {
    "executionInfo": {
     "elapsed": 154,
     "status": "ok",
     "timestamp": 1732183300579,
     "user": {
      "displayName": "Anna Valcarcel",
      "userId": "07227289151518384640"
     },
     "user_tz": 480
    },
    "id": "enPG_G4oBzDp"
   },
   "outputs": [],
   "source": [
    "# assign directory\n",
    "directory = \"/global/scratch/users/arvalcarcel/CSMUB/DATA/CYGNSS/\"\n",
    "file_list = [f for f in os.listdir(directory) if os.path.isfile(os.path.join(directory, f))]"
   ]
  },
  {
   "cell_type": "code",
   "execution_count": 12,
   "metadata": {
    "executionInfo": {
     "elapsed": 148,
     "status": "ok",
     "timestamp": 1732183304816,
     "user": {
      "displayName": "Anna Valcarcel",
      "userId": "07227289151518384640"
     },
     "user_tz": 480
    },
    "id": "3g9O-yQWJFV8"
   },
   "outputs": [],
   "source": [
    "ncdf_list = []\n",
    "\n",
    "for i in range(0,len(dates)):\n",
    "    date = dates[i]\n",
    "    ncdf_name = f'/global/scratch/users/arvalcarcel/CSMUB/DATA/CYGNSS/cyg.ddmi.{date}.l3.uc-berkeley-watermask-monthly.a31.d32.nc'\n",
    "    ncdf_list.append(ncdf_name)"
   ]
  },
  {
   "cell_type": "code",
   "execution_count": 13,
   "metadata": {
    "colab": {
     "base_uri": "https://localhost:8080/",
     "height": 1000,
     "output_embedded_package_id": "1eF-ax5uIi5e2pHtrb_C4aFIclsc9G0pK"
    },
    "executionInfo": {
     "elapsed": 6914291,
     "status": "ok",
     "timestamp": 1732190221245,
     "user": {
      "displayName": "Anna Valcarcel",
      "userId": "07227289151518384640"
     },
     "user_tz": 480
    },
    "id": "ws2eqqY6Ke2v",
    "outputId": "dd707dc6-8e33-4e34-8efb-fe023e83ac06"
   },
   "outputs": [
    {
     "name": "stdout",
     "output_type": "stream",
     "text": [
      "/global/scratch/users/arvalcarcel/CSMUB/RESULTS/MONTHLY_TIF/1159100/1159100_watermask_2018-08.tif\n",
      "/global/scratch/users/arvalcarcel/CSMUB/RESULTS/MONTHLY_TIF/1159100/1159100_watermask_2018-09.tif\n",
      "/global/scratch/users/arvalcarcel/CSMUB/RESULTS/MONTHLY_TIF/1159100/1159100_watermask_2018-10.tif\n",
      "/global/scratch/users/arvalcarcel/CSMUB/RESULTS/MONTHLY_TIF/1159100/1159100_watermask_2018-11.tif\n",
      "/global/scratch/users/arvalcarcel/CSMUB/RESULTS/MONTHLY_TIF/1159100/1159100_watermask_2018-12.tif\n",
      "/global/scratch/users/arvalcarcel/CSMUB/RESULTS/MONTHLY_TIF/1159100/1159100_watermask_2019-01.tif\n",
      "/global/scratch/users/arvalcarcel/CSMUB/RESULTS/MONTHLY_TIF/1159100/1159100_watermask_2019-02.tif\n",
      "/global/scratch/users/arvalcarcel/CSMUB/RESULTS/MONTHLY_TIF/1159100/1159100_watermask_2019-03.tif\n",
      "/global/scratch/users/arvalcarcel/CSMUB/RESULTS/MONTHLY_TIF/1159100/1159100_watermask_2019-04.tif\n",
      "/global/scratch/users/arvalcarcel/CSMUB/RESULTS/MONTHLY_TIF/1159100/1159100_watermask_2019-05.tif\n",
      "/global/scratch/users/arvalcarcel/CSMUB/RESULTS/MONTHLY_TIF/1159100/1159100_watermask_2019-06.tif\n",
      "/global/scratch/users/arvalcarcel/CSMUB/RESULTS/MONTHLY_TIF/1159100/1159100_watermask_2019-07.tif\n",
      "/global/scratch/users/arvalcarcel/CSMUB/RESULTS/MONTHLY_TIF/1159100/1159100_watermask_2019-08.tif\n",
      "/global/scratch/users/arvalcarcel/CSMUB/RESULTS/MONTHLY_TIF/1159100/1159100_watermask_2019-09.tif\n",
      "/global/scratch/users/arvalcarcel/CSMUB/RESULTS/MONTHLY_TIF/1159100/1159100_watermask_2019-10.tif\n",
      "/global/scratch/users/arvalcarcel/CSMUB/RESULTS/MONTHLY_TIF/1159100/1159100_watermask_2019-11.tif\n",
      "/global/scratch/users/arvalcarcel/CSMUB/RESULTS/MONTHLY_TIF/1159100/1159100_watermask_2019-12.tif\n",
      "/global/scratch/users/arvalcarcel/CSMUB/RESULTS/MONTHLY_TIF/1159100/1159100_watermask_2020-01.tif\n",
      "/global/scratch/users/arvalcarcel/CSMUB/RESULTS/MONTHLY_TIF/1159100/1159100_watermask_2020-02.tif\n",
      "/global/scratch/users/arvalcarcel/CSMUB/RESULTS/MONTHLY_TIF/1159100/1159100_watermask_2020-03.tif\n",
      "/global/scratch/users/arvalcarcel/CSMUB/RESULTS/MONTHLY_TIF/1159100/1159100_watermask_2020-04.tif\n",
      "/global/scratch/users/arvalcarcel/CSMUB/RESULTS/MONTHLY_TIF/1159100/1159100_watermask_2020-05.tif\n",
      "/global/scratch/users/arvalcarcel/CSMUB/RESULTS/MONTHLY_TIF/1159100/1159100_watermask_2020-06.tif\n",
      "/global/scratch/users/arvalcarcel/CSMUB/RESULTS/MONTHLY_TIF/1159100/1159100_watermask_2020-07.tif\n",
      "/global/scratch/users/arvalcarcel/CSMUB/RESULTS/MONTHLY_TIF/1159100/1159100_watermask_2020-08.tif\n",
      "/global/scratch/users/arvalcarcel/CSMUB/RESULTS/MONTHLY_TIF/1159100/1159100_watermask_2020-09.tif\n",
      "/global/scratch/users/arvalcarcel/CSMUB/RESULTS/MONTHLY_TIF/1159100/1159100_watermask_2020-10.tif\n",
      "/global/scratch/users/arvalcarcel/CSMUB/RESULTS/MONTHLY_TIF/1159100/1159100_watermask_2020-11.tif\n",
      "/global/scratch/users/arvalcarcel/CSMUB/RESULTS/MONTHLY_TIF/1159100/1159100_watermask_2020-12.tif\n",
      "/global/scratch/users/arvalcarcel/CSMUB/RESULTS/MONTHLY_TIF/1159100/1159100_watermask_2021-01.tif\n",
      "/global/scratch/users/arvalcarcel/CSMUB/RESULTS/MONTHLY_TIF/1159100/1159100_watermask_2021-02.tif\n",
      "/global/scratch/users/arvalcarcel/CSMUB/RESULTS/MONTHLY_TIF/1159100/1159100_watermask_2021-03.tif\n",
      "/global/scratch/users/arvalcarcel/CSMUB/RESULTS/MONTHLY_TIF/1159100/1159100_watermask_2021-04.tif\n",
      "/global/scratch/users/arvalcarcel/CSMUB/RESULTS/MONTHLY_TIF/1159100/1159100_watermask_2021-05.tif\n",
      "/global/scratch/users/arvalcarcel/CSMUB/RESULTS/MONTHLY_TIF/1159100/1159100_watermask_2021-06.tif\n",
      "/global/scratch/users/arvalcarcel/CSMUB/RESULTS/MONTHLY_TIF/1159100/1159100_watermask_2021-07.tif\n",
      "/global/scratch/users/arvalcarcel/CSMUB/RESULTS/MONTHLY_TIF/1159100/1159100_watermask_2021-08.tif\n",
      "/global/scratch/users/arvalcarcel/CSMUB/RESULTS/MONTHLY_TIF/1159100/1159100_watermask_2021-09.tif\n",
      "/global/scratch/users/arvalcarcel/CSMUB/RESULTS/MONTHLY_TIF/1159100/1159100_watermask_2021-10.tif\n",
      "/global/scratch/users/arvalcarcel/CSMUB/RESULTS/MONTHLY_TIF/1159100/1159100_watermask_2021-11.tif\n",
      "/global/scratch/users/arvalcarcel/CSMUB/RESULTS/MONTHLY_TIF/1159100/1159100_watermask_2021-12.tif\n",
      "/global/scratch/users/arvalcarcel/CSMUB/RESULTS/MONTHLY_TIF/1159100/1159100_watermask_2022-01.tif\n",
      "/global/scratch/users/arvalcarcel/CSMUB/RESULTS/MONTHLY_TIF/1159100/1159100_watermask_2022-02.tif\n",
      "/global/scratch/users/arvalcarcel/CSMUB/RESULTS/MONTHLY_TIF/1159100/1159100_watermask_2022-03.tif\n",
      "/global/scratch/users/arvalcarcel/CSMUB/RESULTS/MONTHLY_TIF/1159100/1159100_watermask_2022-04.tif\n",
      "/global/scratch/users/arvalcarcel/CSMUB/RESULTS/MONTHLY_TIF/1159100/1159100_watermask_2022-05.tif\n",
      "/global/scratch/users/arvalcarcel/CSMUB/RESULTS/MONTHLY_TIF/1159100/1159100_watermask_2022-06.tif\n",
      "/global/scratch/users/arvalcarcel/CSMUB/RESULTS/MONTHLY_TIF/1159100/1159100_watermask_2022-07.tif\n",
      "/global/scratch/users/arvalcarcel/CSMUB/RESULTS/MONTHLY_TIF/1159100/1159100_watermask_2022-08.tif\n",
      "/global/scratch/users/arvalcarcel/CSMUB/RESULTS/MONTHLY_TIF/1159100/1159100_watermask_2022-09.tif\n",
      "/global/scratch/users/arvalcarcel/CSMUB/RESULTS/MONTHLY_TIF/1159100/1159100_watermask_2022-10.tif\n",
      "/global/scratch/users/arvalcarcel/CSMUB/RESULTS/MONTHLY_TIF/1159100/1159100_watermask_2022-11.tif\n",
      "/global/scratch/users/arvalcarcel/CSMUB/RESULTS/MONTHLY_TIF/1159100/1159100_watermask_2022-12.tif\n",
      "/global/scratch/users/arvalcarcel/CSMUB/RESULTS/MONTHLY_TIF/1159100/1159100_watermask_2023-01.tif\n",
      "/global/scratch/users/arvalcarcel/CSMUB/RESULTS/MONTHLY_TIF/1159100/1159100_watermask_2023-02.tif\n",
      "/global/scratch/users/arvalcarcel/CSMUB/RESULTS/MONTHLY_TIF/1159100/1159100_watermask_2023-03.tif\n",
      "/global/scratch/users/arvalcarcel/CSMUB/RESULTS/MONTHLY_TIF/1159100/1159100_watermask_2023-04.tif\n",
      "/global/scratch/users/arvalcarcel/CSMUB/RESULTS/MONTHLY_TIF/1159100/1159100_watermask_2023-05.tif\n",
      "/global/scratch/users/arvalcarcel/CSMUB/RESULTS/MONTHLY_TIF/1159100/1159100_watermask_2023-06.tif\n",
      "/global/scratch/users/arvalcarcel/CSMUB/RESULTS/MONTHLY_TIF/1159100/1159100_watermask_2023-07.tif\n",
      "/global/scratch/users/arvalcarcel/CSMUB/RESULTS/MONTHLY_TIF/1159100/1159100_watermask_2023-08.tif\n",
      "/global/scratch/users/arvalcarcel/CSMUB/RESULTS/MONTHLY_TIF/1159100/1159100_watermask_2023-09.tif\n",
      "/global/scratch/users/arvalcarcel/CSMUB/RESULTS/MONTHLY_TIF/1159100/1159100_watermask_2023-10.tif\n",
      "/global/scratch/users/arvalcarcel/CSMUB/RESULTS/MONTHLY_TIF/1159100/1159100_watermask_2023-11.tif\n",
      "/global/scratch/users/arvalcarcel/CSMUB/RESULTS/MONTHLY_TIF/1159100/1159100_watermask_2023-12.tif\n",
      "/global/scratch/users/arvalcarcel/CSMUB/RESULTS/MONTHLY_TIF/1159100/1159100_watermask_2024-06.tif\n",
      "/global/scratch/users/arvalcarcel/CSMUB/RESULTS/MONTHLY_TIF/1159100/1159100_watermask_2024-07.tif\n"
     ]
    }
   ],
   "source": [
    "# THIS ONE WORKS\n",
    "for f, filename in enumerate(ncdf_list):\n",
    "  if os.path.isfile(filename):\n",
    "    # Define the path for the new folder\n",
    "    new_folder_path = f'/global/scratch/users/arvalcarcel/CSMUB/RESULTS/MONTHLY_TIF/{number}/'\n",
    "    # Create the folder\n",
    "    os.makedirs(new_folder_path, exist_ok=True)\n",
    "    \n",
    "    # Create new shapefile\n",
    "    tif_out = new_folder_path + f'{number}_watermask_' + dates[f] + '.tif'\n",
    "    print(tif_out)\n",
    "    netcdf_totif(filename,shapefile,tif_out)"
   ]
  },
  {
   "cell_type": "code",
   "execution_count": 14,
   "metadata": {},
   "outputs": [
    {
     "data": {
      "image/png": "[encoded data removed]",
      "text/plain": [
       "<Figure size 1000x800 with 2 Axes>"
      ]
     },
     "metadata": {},
     "output_type": "display_data"
    }
   ],
   "source": [
    "def visualize_tif(tif_path):\n",
    "    \"\"\"\n",
    "    Function to visualize a GeoTIFF file.\n",
    "    \n",
    "    Parameters:\n",
    "    - tif_path: Path to the GeoTIFF file.\n",
    "    \"\"\"\n",
    "    with rasterio.open(tif_path) as src:\n",
    "        # Read the first band of the raster\n",
    "        data = src.read(1)\n",
    "        # Get the metadata\n",
    "        bounds = src.bounds\n",
    "        extent = [bounds.left, bounds.right, bounds.bottom, bounds.top]\n",
    "\n",
    "        # Plot the raster\n",
    "        plt.figure(figsize=(10, 8))\n",
    "        plt.imshow(data, extent=extent, cmap='viridis', origin='upper')\n",
    "        plt.colorbar(label='Value')\n",
    "        plt.title('GeoTIFF Visualization')\n",
    "        plt.xlabel('Longitude')\n",
    "        plt.ylabel('Latitude')\n",
    "        plt.show()\n",
    "\n",
    "# Call the visualization function\n",
    "visualize_tif(tif_out)\n"
   ]
  }
 ],
 "metadata": {
  "colab": {
   "collapsed_sections": [
    "Fdx879F_5ZXP",
    "PgLx20kX-WCv"
   ],
   "provenance": [],
   "toc_visible": true
  },
  "kernelspec": {
   "display_name": "Python 3 (ipykernel)",
   "language": "python",
   "name": "python3"
  },
  "language_info": {
   "codemirror_mode": {
    "name": "ipython",
    "version": 3
   },
   "file_extension": ".py",
   "mimetype": "text/x-python",
   "name": "python",
   "nbconvert_exporter": "python",
   "pygments_lexer": "ipython3",
   "version": "3.11.7"
  }
 },
 "nbformat": 4,
 "nbformat_minor": 4
}
