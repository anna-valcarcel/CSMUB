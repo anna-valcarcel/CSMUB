{
 "cells": [
  {
   "cell_type": "code",
   "execution_count": 1,
   "id": "8dfb058d-2668-4648-b6a6-90f39432ffe4",
   "metadata": {},
   "outputs": [],
   "source": [
    "import rasterio\n",
    "import os\n",
    "from rasterio.merge import merge\n",
    "from rasterio.plot import show\n",
    "import numpy as np\n",
    "import glob"
   ]
  },
  {
   "cell_type": "code",
   "execution_count": 2,
   "id": "1d872a17-56fb-4e09-9e0b-dc3317787bf3",
   "metadata": {},
   "outputs": [
    {
     "name": "stdout",
     "output_type": "stream",
     "text": [
      "['/global/scratch/users/arvalcarcel/CSMUB/DATA/LANDCOVER/STRATA/00N_010E.tif', '/global/scratch/users/arvalcarcel/CSMUB/DATA/LANDCOVER/STRATA/00N_020E.tif', '/global/scratch/users/arvalcarcel/CSMUB/DATA/LANDCOVER/STRATA/00N_030E.tif', '/global/scratch/users/arvalcarcel/CSMUB/DATA/LANDCOVER/STRATA/00N_000E.tif']\n"
     ]
    }
   ],
   "source": [
    "# assign directory\n",
    "directory = \"/global/scratch/users/arvalcarcel/CSMUB/DATA/LANDCOVER/STRATA/\"\n",
    "src_files_to_mosaic = []\n",
    "q = [f for f in os.listdir(directory) if os.path.isfile(os.path.join(directory, f))]\n",
    "dem_fps = [os.path.join(directory, qx) for qx in q]\n",
    "print(dem_fps)"
   ]
  },
  {
   "cell_type": "code",
   "execution_count": 3,
   "id": "baf5761f-f8b8-447e-947c-35f21b39ac0c",
   "metadata": {},
   "outputs": [],
   "source": [
    "for fp in dem_fps:\n",
    "    src = rasterio.open(fp)\n",
    "    src_files_to_mosaic.append(src)"
   ]
  },
  {
   "cell_type": "code",
   "execution_count": 4,
   "id": "a1b1b6d9-ffb6-408c-95fb-0f37932869b0",
   "metadata": {},
   "outputs": [
    {
     "data": {
      "text/plain": [
       "[<open DatasetReader name='/global/scratch/users/arvalcarcel/CSMUB/DATA/LANDCOVER/STRATA/00N_010E.tif' mode='r'>,\n",
       " <open DatasetReader name='/global/scratch/users/arvalcarcel/CSMUB/DATA/LANDCOVER/STRATA/00N_020E.tif' mode='r'>,\n",
       " <open DatasetReader name='/global/scratch/users/arvalcarcel/CSMUB/DATA/LANDCOVER/STRATA/00N_030E.tif' mode='r'>,\n",
       " <open DatasetReader name='/global/scratch/users/arvalcarcel/CSMUB/DATA/LANDCOVER/STRATA/00N_000E.tif' mode='r'>]"
      ]
     },
     "execution_count": 4,
     "metadata": {},
     "output_type": "execute_result"
    }
   ],
   "source": [
    "src_files_to_mosaic"
   ]
  },
  {
   "cell_type": "code",
   "execution_count": null,
   "id": "cdc47e63-9b16-457d-8351-18be0e409d92",
   "metadata": {},
   "outputs": [],
   "source": [
    "mosaic, out_trans = merge(src_files_to_mosaic)"
   ]
  },
  {
   "cell_type": "code",
   "execution_count": null,
   "id": "850a3cbe-4862-4b76-b668-76665257c9df",
   "metadata": {},
   "outputs": [],
   "source": [
    "show(mosaic, cmap='terrain')"
   ]
  },
  {
   "cell_type": "code",
   "execution_count": null,
   "id": "080716b0-3497-47ff-89a0-2281e02bea0b",
   "metadata": {},
   "outputs": [],
   "source": []
  }
 ],
 "metadata": {
  "kernelspec": {
   "display_name": "Python 3 (ipykernel)",
   "language": "python",
   "name": "python3"
  },
  "language_info": {
   "codemirror_mode": {
    "name": "ipython",
    "version": 3
   },
   "file_extension": ".py",
   "mimetype": "text/x-python",
   "name": "python",
   "nbconvert_exporter": "python",
   "pygments_lexer": "ipython3",
   "version": "3.11.7"
  }
 },
 "nbformat": 4,
 "nbformat_minor": 5
}
