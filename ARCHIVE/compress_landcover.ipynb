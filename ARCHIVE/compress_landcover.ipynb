{
 "cells": [
  {
   "cell_type": "code",
   "execution_count": 1,
   "id": "4cbd86bb-97d9-446e-acca-9992febc4e69",
   "metadata": {},
   "outputs": [],
   "source": [
    "import rasterio\n",
    "from rasterio.enums import Resampling\n",
    "from rasterio.warp import calculate_default_transform, reproject\n",
    "import numpy as np\n",
    "import os"
   ]
  },
  {
   "cell_type": "code",
   "execution_count": 2,
   "id": "bdb1a81b-c621-4c6b-853f-a75f55637c93",
   "metadata": {},
   "outputs": [],
   "source": [
    "def resample_tif(input_tif, output_tif, new_resolution=0.01, compress='LZW'):\n",
    "    \"\"\"\n",
    "    Resample a GeoTIFF file to 0.01-degree resolution (EPSG:4326).\n",
    "    \n",
    "    Parameters:\n",
    "        input_tif (str): Path to the input GeoTIFF.\n",
    "        output_tif (str): Path to save the output GeoTIFF.\n",
    "        new_resolution (float): Target resolution in degrees (default 0.01).\n",
    "        compress (str): Compression type for output (default 'LZW').\n",
    "    \"\"\"\n",
    "    with rasterio.open(input_tif) as src:\n",
    "        # Extract bounding box\n",
    "        left, bottom, right, top = src.bounds\n",
    "        \n",
    "        # Calculate new transform and shape\n",
    "        transform, width, height = calculate_default_transform(\n",
    "            src_crs=src.crs,\n",
    "            dst_crs=src.crs,\n",
    "            width=src.width,\n",
    "            height=src.height,\n",
    "            left=left,\n",
    "            bottom=bottom,\n",
    "            right=right,\n",
    "            top=top,\n",
    "            resolution=new_resolution\n",
    "        )\n",
    "\n",
    "        # Define output profile\n",
    "        profile = src.profile.copy()\n",
    "        profile.update({\n",
    "            'transform': transform,\n",
    "            'width': width,\n",
    "            'height': height,\n",
    "            'compress': compress,\n",
    "            'dtype': src.dtypes[0]  # Maintain same data type\n",
    "        })\n",
    "\n",
    "        # Create output dataset\n",
    "        with rasterio.open(output_tif, 'w', **profile) as dst:\n",
    "            for i in range(1, src.count + 1):  # Loop over all bands\n",
    "                data = src.read(i)\n",
    "                resampled_data = np.empty((height, width), dtype=profile['dtype'])\n",
    "                \n",
    "                # Resample the band\n",
    "                reproject(\n",
    "                    source=data,\n",
    "                    destination=resampled_data,\n",
    "                    src_transform=src.transform,\n",
    "                    src_crs=src.crs,\n",
    "                    dst_transform=transform,\n",
    "                    dst_crs=src.crs,\n",
    "                    resampling=Resampling.average  # Use average for downsampling\n",
    "                )\n",
    "                \n",
    "                dst.write(resampled_data, i)"
   ]
  },
  {
   "cell_type": "code",
   "execution_count": 3,
   "id": "47269642-5a1c-411a-81ab-82b7597f5d65",
   "metadata": {
    "scrolled": true
   },
   "outputs": [
    {
     "name": "stdout",
     "output_type": "stream",
     "text": [
      "['/global/scratch/users/arvalcarcel/CSMUB/DATA/LANDCOVER/30N_080E.tif', '/global/scratch/users/arvalcarcel/CSMUB/DATA/LANDCOVER/40N_010E.tif', '/global/scratch/users/arvalcarcel/CSMUB/DATA/LANDCOVER/40N_110W.tif', '/global/scratch/users/arvalcarcel/CSMUB/DATA/LANDCOVER/20N_030W.tif', '/global/scratch/users/arvalcarcel/CSMUB/DATA/LANDCOVER/10N_080W.tif', '/global/scratch/users/arvalcarcel/CSMUB/DATA/LANDCOVER/40N_090E.tif', '/global/scratch/users/arvalcarcel/CSMUB/DATA/LANDCOVER/00N_130E.tif', '/global/scratch/users/arvalcarcel/CSMUB/DATA/LANDCOVER/20N_020E.tif', '/global/scratch/users/arvalcarcel/CSMUB/DATA/LANDCOVER/30N_110E.tif', '/global/scratch/users/arvalcarcel/CSMUB/DATA/LANDCOVER/40N_110E.tif', '/global/scratch/users/arvalcarcel/CSMUB/DATA/LANDCOVER/40N_060E.tif', '/global/scratch/users/arvalcarcel/CSMUB/DATA/LANDCOVER/30S_120E.tif', '/global/scratch/users/arvalcarcel/CSMUB/DATA/LANDCOVER/20N_110E.tif', '/global/scratch/users/arvalcarcel/CSMUB/DATA/LANDCOVER/40N_040E.tif', '/global/scratch/users/arvalcarcel/CSMUB/DATA/LANDCOVER/10N_100E.tif', '/global/scratch/users/arvalcarcel/CSMUB/DATA/LANDCOVER/20S_030E.tif', '/global/scratch/users/arvalcarcel/CSMUB/DATA/LANDCOVER/00N_010E.tif', '/global/scratch/users/arvalcarcel/CSMUB/DATA/LANDCOVER/00N_150E.tif', '/global/scratch/users/arvalcarcel/CSMUB/DATA/LANDCOVER/30N_170W.tif', '/global/scratch/users/arvalcarcel/CSMUB/DATA/LANDCOVER/10S_080W.tif', '/global/scratch/users/arvalcarcel/CSMUB/DATA/LANDCOVER/00N_090W.tif', '/global/scratch/users/arvalcarcel/CSMUB/DATA/LANDCOVER/00N_060W.tif', '/global/scratch/users/arvalcarcel/CSMUB/DATA/LANDCOVER/30N_120E.tif', '/global/scratch/users/arvalcarcel/CSMUB/DATA/LANDCOVER/00N_080W.tif', '/global/scratch/users/arvalcarcel/CSMUB/DATA/LANDCOVER/20N_110W.tif', '/global/scratch/users/arvalcarcel/CSMUB/DATA/LANDCOVER/10S_050E.tif', '/global/scratch/users/arvalcarcel/CSMUB/DATA/LANDCOVER/20S_040E.tif', '/global/scratch/users/arvalcarcel/CSMUB/DATA/LANDCOVER/20N_080W.tif', '/global/scratch/users/arvalcarcel/CSMUB/DATA/LANDCOVER/10S_030E.tif', '/global/scratch/users/arvalcarcel/CSMUB/DATA/LANDCOVER/00N_160E.tif', '/global/scratch/users/arvalcarcel/CSMUB/DATA/LANDCOVER/20S_110E.tif', '/global/scratch/users/arvalcarcel/CSMUB/DATA/LANDCOVER/20S_080W.tif', '/global/scratch/users/arvalcarcel/CSMUB/DATA/LANDCOVER/20S_130E.tif', '/global/scratch/users/arvalcarcel/CSMUB/DATA/LANDCOVER/10S_050W.tif', '/global/scratch/users/arvalcarcel/CSMUB/DATA/LANDCOVER/30S_020E.tif', '/global/scratch/users/arvalcarcel/CSMUB/DATA/LANDCOVER/20N_070W.tif', '/global/scratch/users/arvalcarcel/CSMUB/DATA/LANDCOVER/10S_170E.tif', '/global/scratch/users/arvalcarcel/CSMUB/DATA/LANDCOVER/30S_170E.tif', '/global/scratch/users/arvalcarcel/CSMUB/DATA/LANDCOVER/00N_020E.tif', '/global/scratch/users/arvalcarcel/CSMUB/DATA/LANDCOVER/10S_130E.tif', '/global/scratch/users/arvalcarcel/CSMUB/DATA/LANDCOVER/30S_130E.tif', '/global/scratch/users/arvalcarcel/CSMUB/DATA/LANDCOVER/00N_110E.tif', '/global/scratch/users/arvalcarcel/CSMUB/DATA/LANDCOVER/10N_020E.tif', '/global/scratch/users/arvalcarcel/CSMUB/DATA/LANDCOVER/20N_100W.tif', '/global/scratch/users/arvalcarcel/CSMUB/DATA/LANDCOVER/40N_100W.tif', '/global/scratch/users/arvalcarcel/CSMUB/DATA/LANDCOVER/30S_110E.tif', '/global/scratch/users/arvalcarcel/CSMUB/DATA/LANDCOVER/10N_090E.tif', '/global/scratch/users/arvalcarcel/CSMUB/DATA/LANDCOVER/00N_090E.tif', '/global/scratch/users/arvalcarcel/CSMUB/DATA/LANDCOVER/20N_060W.tif', '/global/scratch/users/arvalcarcel/CSMUB/DATA/LANDCOVER/20N_080E.tif', '/global/scratch/users/arvalcarcel/CSMUB/DATA/LANDCOVER/10S_040E.tif', '/global/scratch/users/arvalcarcel/CSMUB/DATA/LANDCOVER/10S_160E.tif', '/global/scratch/users/arvalcarcel/CSMUB/DATA/LANDCOVER/30N_080W.tif', '/global/scratch/users/arvalcarcel/CSMUB/DATA/LANDCOVER/20N_010W.tif', '/global/scratch/users/arvalcarcel/CSMUB/DATA/LANDCOVER/30N_090E.tif', '/global/scratch/users/arvalcarcel/CSMUB/DATA/LANDCOVER/30N_100W.tif', '/global/scratch/users/arvalcarcel/CSMUB/DATA/LANDCOVER/10S_150E.tif', '/global/scratch/users/arvalcarcel/CSMUB/DATA/LANDCOVER/30S_010E.tif', '/global/scratch/users/arvalcarcel/CSMUB/DATA/LANDCOVER/30N_030E.tif', '/global/scratch/users/arvalcarcel/CSMUB/DATA/LANDCOVER/30N_110W.tif', '/global/scratch/users/arvalcarcel/CSMUB/DATA/LANDCOVER/10N_050W.tif', '/global/scratch/users/arvalcarcel/CSMUB/DATA/LANDCOVER/20N_070E.tif', '/global/scratch/users/arvalcarcel/CSMUB/DATA/LANDCOVER/10N_070W.tif', '/global/scratch/users/arvalcarcel/CSMUB/DATA/LANDCOVER/00N_070W.tif', '/global/scratch/users/arvalcarcel/CSMUB/DATA/LANDCOVER/40N_130E.tif', '/global/scratch/users/arvalcarcel/CSMUB/DATA/LANDCOVER/30S_140E.tif', '/global/scratch/users/arvalcarcel/CSMUB/DATA/LANDCOVER/10S_020E.tif', '/global/scratch/users/arvalcarcel/CSMUB/DATA/LANDCOVER/30N_040E.tif', '/global/scratch/users/arvalcarcel/CSMUB/DATA/LANDCOVER/20S_070W.tif', '/global/scratch/users/arvalcarcel/CSMUB/DATA/LANDCOVER/30N_120W.tif', '/global/scratch/users/arvalcarcel/CSMUB/DATA/LANDCOVER/40N_000E.tif', '/global/scratch/users/arvalcarcel/CSMUB/DATA/LANDCOVER/40N_050E.tif', '/global/scratch/users/arvalcarcel/CSMUB/DATA/LANDCOVER/10N_090W.tif', '/global/scratch/users/arvalcarcel/CSMUB/DATA/LANDCOVER/30N_020W.tif', '/global/scratch/users/arvalcarcel/CSMUB/DATA/LANDCOVER/40N_120E.tif', '/global/scratch/users/arvalcarcel/CSMUB/DATA/LANDCOVER/10N_000E.tif', '/global/scratch/users/arvalcarcel/CSMUB/DATA/LANDCOVER/20N_160W.tif', '/global/scratch/users/arvalcarcel/CSMUB/DATA/LANDCOVER/20S_010E.tif', '/global/scratch/users/arvalcarcel/CSMUB/DATA/LANDCOVER/40N_080E.tif', '/global/scratch/users/arvalcarcel/CSMUB/DATA/LANDCOVER/30N_090W.tif', '/global/scratch/users/arvalcarcel/CSMUB/DATA/LANDCOVER/30N_060E.tif', '/global/scratch/users/arvalcarcel/CSMUB/DATA/LANDCOVER/10N_080E.tif', '/global/scratch/users/arvalcarcel/CSMUB/DATA/LANDCOVER/30N_010E.tif', '/global/scratch/users/arvalcarcel/CSMUB/DATA/LANDCOVER/10N_010W.tif', '/global/scratch/users/arvalcarcel/CSMUB/DATA/LANDCOVER/30S_070W.tif', '/global/scratch/users/arvalcarcel/CSMUB/DATA/LANDCOVER/40N_020E.tif', '/global/scratch/users/arvalcarcel/CSMUB/DATA/LANDCOVER/30N_010W.tif', '/global/scratch/users/arvalcarcel/CSMUB/DATA/LANDCOVER/30N_020E.tif', '/global/scratch/users/arvalcarcel/CSMUB/DATA/LANDCOVER/00N_040W.tif', '/global/scratch/users/arvalcarcel/CSMUB/DATA/LANDCOVER/10N_010E.tif', '/global/scratch/users/arvalcarcel/CSMUB/DATA/LANDCOVER/00N_040E.tif', '/global/scratch/users/arvalcarcel/CSMUB/DATA/LANDCOVER/40N_010W.tif', '/global/scratch/users/arvalcarcel/CSMUB/DATA/LANDCOVER/00N_030E.tif', '/global/scratch/users/arvalcarcel/CSMUB/DATA/LANDCOVER/30N_100E.tif', '/global/scratch/users/arvalcarcel/CSMUB/DATA/LANDCOVER/20S_050E.tif', '/global/scratch/users/arvalcarcel/CSMUB/DATA/LANDCOVER/10S_070W.tif', '/global/scratch/users/arvalcarcel/CSMUB/DATA/LANDCOVER/30N_160W.tif', '/global/scratch/users/arvalcarcel/CSMUB/DATA/LANDCOVER/10N_050E.tif', '/global/scratch/users/arvalcarcel/CSMUB/DATA/LANDCOVER/00N_050W.tif', '/global/scratch/users/arvalcarcel/CSMUB/DATA/LANDCOVER/40N_070E.tif', '/global/scratch/users/arvalcarcel/CSMUB/DATA/LANDCOVER/10N_120E.tif', '/global/scratch/users/arvalcarcel/CSMUB/DATA/LANDCOVER/20N_010E.tif', '/global/scratch/users/arvalcarcel/CSMUB/DATA/LANDCOVER/30N_000E.tif', '/global/scratch/users/arvalcarcel/CSMUB/DATA/LANDCOVER/30S_150E.tif', '/global/scratch/users/arvalcarcel/CSMUB/DATA/LANDCOVER/10N_110E.tif', '/global/scratch/users/arvalcarcel/CSMUB/DATA/LANDCOVER/10N_030E.tif', '/global/scratch/users/arvalcarcel/CSMUB/DATA/LANDCOVER/00N_000E.tif', '/global/scratch/users/arvalcarcel/CSMUB/DATA/LANDCOVER/40N_090W.tif', '/global/scratch/users/arvalcarcel/CSMUB/DATA/LANDCOVER/20S_020E.tif', '/global/scratch/users/arvalcarcel/CSMUB/DATA/LANDCOVER/10S_060W.tif', '/global/scratch/users/arvalcarcel/CSMUB/DATA/LANDCOVER/10S_110E.tif', '/global/scratch/users/arvalcarcel/CSMUB/DATA/LANDCOVER/10S_120E.tif', '/global/scratch/users/arvalcarcel/CSMUB/DATA/LANDCOVER/40N_020W.tif', '/global/scratch/users/arvalcarcel/CSMUB/DATA/LANDCOVER/20S_060W.tif', '/global/scratch/users/arvalcarcel/CSMUB/DATA/LANDCOVER/30N_130E.tif', '/global/scratch/users/arvalcarcel/CSMUB/DATA/LANDCOVER/30S_080W.tif', '/global/scratch/users/arvalcarcel/CSMUB/DATA/LANDCOVER/20N_030E.tif', '/global/scratch/users/arvalcarcel/CSMUB/DATA/LANDCOVER/20N_020W.tif', '/global/scratch/users/arvalcarcel/CSMUB/DATA/LANDCOVER/20S_160E.tif', '/global/scratch/users/arvalcarcel/CSMUB/DATA/LANDCOVER/20N_100E.tif', '/global/scratch/users/arvalcarcel/CSMUB/DATA/LANDCOVER/40N_080W.tif', '/global/scratch/users/arvalcarcel/CSMUB/DATA/LANDCOVER/20S_050W.tif', '/global/scratch/users/arvalcarcel/CSMUB/DATA/LANDCOVER/00N_120E.tif', '/global/scratch/users/arvalcarcel/CSMUB/DATA/LANDCOVER/20S_140E.tif', '/global/scratch/users/arvalcarcel/CSMUB/DATA/LANDCOVER/40N_130W.tif', '/global/scratch/users/arvalcarcel/CSMUB/DATA/LANDCOVER/40N_140E.tif', '/global/scratch/users/arvalcarcel/CSMUB/DATA/LANDCOVER/10N_100W.tif', '/global/scratch/users/arvalcarcel/CSMUB/DATA/LANDCOVER/20N_000E.tif', '/global/scratch/users/arvalcarcel/CSMUB/DATA/LANDCOVER/20N_120E.tif', '/global/scratch/users/arvalcarcel/CSMUB/DATA/LANDCOVER/40N_030E.tif', '/global/scratch/users/arvalcarcel/CSMUB/DATA/LANDCOVER/30S_060W.tif', '/global/scratch/users/arvalcarcel/CSMUB/DATA/LANDCOVER/20N_090W.tif', '/global/scratch/users/arvalcarcel/CSMUB/DATA/LANDCOVER/10S_040W.tif', '/global/scratch/users/arvalcarcel/CSMUB/DATA/LANDCOVER/20S_120E.tif', '/global/scratch/users/arvalcarcel/CSMUB/DATA/LANDCOVER/30S_030E.tif', '/global/scratch/users/arvalcarcel/CSMUB/DATA/LANDCOVER/00N_140E.tif', '/global/scratch/users/arvalcarcel/CSMUB/DATA/LANDCOVER/00N_100E.tif', '/global/scratch/users/arvalcarcel/CSMUB/DATA/LANDCOVER/00N_100W.tif', '/global/scratch/users/arvalcarcel/CSMUB/DATA/LANDCOVER/10N_130E.tif', '/global/scratch/users/arvalcarcel/CSMUB/DATA/LANDCOVER/40N_120W.tif', '/global/scratch/users/arvalcarcel/CSMUB/DATA/LANDCOVER/30N_050E.tif', '/global/scratch/users/arvalcarcel/CSMUB/DATA/LANDCOVER/40N_100E.tif', '/global/scratch/users/arvalcarcel/CSMUB/DATA/LANDCOVER/40N_070W.tif', '/global/scratch/users/arvalcarcel/CSMUB/DATA/LANDCOVER/20N_050E.tif', '/global/scratch/users/arvalcarcel/CSMUB/DATA/LANDCOVER/20S_150E.tif', '/global/scratch/users/arvalcarcel/CSMUB/DATA/LANDCOVER/10S_010E.tif', '/global/scratch/users/arvalcarcel/CSMUB/DATA/LANDCOVER/10N_040E.tif', '/global/scratch/users/arvalcarcel/CSMUB/DATA/LANDCOVER/10N_020W.tif', '/global/scratch/users/arvalcarcel/CSMUB/DATA/LANDCOVER/30N_070E.tif', '/global/scratch/users/arvalcarcel/CSMUB/DATA/LANDCOVER/20N_040E.tif', '/global/scratch/users/arvalcarcel/CSMUB/DATA/LANDCOVER/20N_090E.tif', '/global/scratch/users/arvalcarcel/CSMUB/DATA/LANDCOVER/10S_140E.tif', '/global/scratch/users/arvalcarcel/CSMUB/DATA/LANDCOVER/10N_060W.tif', '/global/scratch/users/arvalcarcel/CSMUB/DATA/LANDCOVER/10N_070E.tif']\n"
     ]
    }
   ],
   "source": [
    "# Example usage\n",
    "directory = \"/global/scratch/users/arvalcarcel/CSMUB/DATA/LANDCOVER/\"\n",
    "q = [f for f in os.listdir(directory) if os.path.isfile(os.path.join(directory, f))]\n",
    "input_tifs = [os.path.join(directory, qx) for qx in q]\n",
    "print(input_tifs)\n",
    "directory_out =  \"/global/scratch/users/arvalcarcel/CSMUB/DATA/LANDCOVER/RESAMPLED/\"\n",
    "output_tifs = [os.path.join(directory_out, qx) for qx in q]\n",
    "\n",
    "# for i in range(0,1):\n",
    "    # resample_tif(input_tifs[i], output_tifs[i])\n",
    "    # show(mosaic, cmap='terrain')\n"
   ]
  }
 ],
 "metadata": {
  "kernelspec": {
   "display_name": "Python 3 (ipykernel)",
   "language": "python",
   "name": "python3"
  },
  "language_info": {
   "codemirror_mode": {
    "name": "ipython",
    "version": 3
   },
   "file_extension": ".py",
   "mimetype": "text/x-python",
   "name": "python",
   "nbconvert_exporter": "python",
   "pygments_lexer": "ipython3",
   "version": "3.11.7"
  }
 },
 "nbformat": 4,
 "nbformat_minor": 5
}
