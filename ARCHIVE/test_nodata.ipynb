{
 "cells": [
  {
   "cell_type": "code",
   "execution_count": 2,
   "id": "cf5a195d-f916-43c1-b4d6-b8cd6cc8756e",
   "metadata": {},
   "outputs": [
    {
     "name": "stdout",
     "output_type": "stream",
     "text": [
      "Processing hyd_af_dem_30s.tif...\n",
      "  Current nodata value: -99.0\n",
      "  Updated nodata value to -99.\n",
      "Processing hyd_na_dem_30s.tif...\n",
      "  Current nodata value: -99.0\n",
      "  Updated nodata value to -99.\n",
      "Processing hyd_au_dem_30s.tif...\n",
      "  Current nodata value: -99.0\n",
      "  Updated nodata value to -99.\n",
      "Processing hyd_as_dem_30s.tif...\n",
      "  Current nodata value: -99.0\n",
      "  Updated nodata value to -99.\n",
      "Processing hyd_eu_dem_30s.tif...\n",
      "  Current nodata value: -99.0\n",
      "  Updated nodata value to -99.\n",
      "Processing hyd_sa_dem_30s.tif...\n",
      "  Current nodata value: -99.0\n",
      "  Updated nodata value to -99.\n"
     ]
    }
   ],
   "source": [
    "import os\n",
    "import rasterio\n",
    "import numpy as np\n",
    "\n",
    "# Directory containing the .tif files\n",
    "input_folder = '/global/scratch/users/arvalcarcel/CSMUB/DATA/DEM'\n",
    "new_nodata_value = -99  # Set your desired nodata value\n",
    "\n",
    "# Iterate through all files in the folder\n",
    "for filename in os.listdir(input_folder):\n",
    "    if filename.endswith(\".tif\"):\n",
    "        filepath = os.path.join(input_folder, filename)\n",
    "        print(f\"Processing {filename}...\")\n",
    "\n",
    "        # Open the raster file\n",
    "        with rasterio.open(filepath, 'r+') as dataset:\n",
    "            # Get current nodata value\n",
    "            current_nodata = dataset.nodata\n",
    "\n",
    "            # If no nodata value is set, skip or set the default\n",
    "            if current_nodata is None:\n",
    "                print(f\"  No nodata value found. Setting to {new_nodata_value}\")\n",
    "            else:\n",
    "                print(f\"  Current nodata value: {current_nodata}\")\n",
    "\n",
    "            # Ensure the new nodata value matches the datatype\n",
    "            numpy_dtype = np.dtype(dataset.dtypes[0])  # Convert string to numpy dtype\n",
    "            new_nodata_value_cast = numpy_dtype.type(new_nodata_value)  # Cast to scalar\n",
    "\n",
    "            # Replace the nodata value in the dataset\n",
    "            dataset.nodata = new_nodata_value_cast\n",
    "\n",
    "            # Read the data and update nodata values\n",
    "            band_data = dataset.read(1)  # Read the first band\n",
    "            band_data = np.where(band_data == current_nodata, new_nodata_value_cast, band_data)\n",
    "\n",
    "            # Write updated data back\n",
    "            dataset.write(band_data, 1)\n",
    "\n",
    "            print(f\"  Updated nodata value to {new_nodata_value_cast}.\")\n"
   ]
  },
  {
   "cell_type": "code",
   "execution_count": null,
   "id": "5c75be30-9e6b-4fc9-b5d1-14a3b13b04b4",
   "metadata": {},
   "outputs": [],
   "source": []
  }
 ],
 "metadata": {
  "kernelspec": {
   "display_name": "Python 3 (ipykernel)",
   "language": "python",
   "name": "python3"
  },
  "language_info": {
   "codemirror_mode": {
    "name": "ipython",
    "version": 3
   },
   "file_extension": ".py",
   "mimetype": "text/x-python",
   "name": "python",
   "nbconvert_exporter": "python",
   "pygments_lexer": "ipython3",
   "version": "3.11.7"
  }
 },
 "nbformat": 4,
 "nbformat_minor": 5
}
