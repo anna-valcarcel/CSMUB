{
 "cells": [
  {
   "cell_type": "code",
   "execution_count": 1,
   "metadata": {},
   "outputs": [],
   "source": [
    "# pip install --upgrade keras-cv tensorflow"
   ]
  },
  {
   "cell_type": "code",
   "execution_count": 2,
   "metadata": {
    "id": "M2jYQLRhLBHZ"
   },
   "outputs": [
    {
     "name": "stderr",
     "output_type": "stream",
     "text": [
      "2024-12-07 12:21:18.014930: I external/local_xla/xla/tsl/cuda/cudart_stub.cc:32] Could not find cuda drivers on your machine, GPU will not be used.\n",
      "2024-12-07 12:21:18.018158: I external/local_xla/xla/tsl/cuda/cudart_stub.cc:32] Could not find cuda drivers on your machine, GPU will not be used.\n",
      "2024-12-07 12:21:18.028037: E external/local_xla/xla/stream_executor/cuda/cuda_fft.cc:477] Unable to register cuFFT factory: Attempting to register factory for plugin cuFFT when one has already been registered\n",
      "WARNING: All log messages before absl::InitializeLog() is called are written to STDERR\n",
      "E0000 00:00:1733602878.044666  864076 cuda_dnn.cc:8310] Unable to register cuDNN factory: Attempting to register factory for plugin cuDNN when one has already been registered\n",
      "E0000 00:00:1733602878.049733  864076 cuda_blas.cc:1418] Unable to register cuBLAS factory: Attempting to register factory for plugin cuBLAS when one has already been registered\n",
      "2024-12-07 12:21:18.066383: I tensorflow/core/platform/cpu_feature_guard.cc:210] This TensorFlow binary is optimized to use available CPU instructions in performance-critical operations.\n",
      "To enable the following instructions: AVX2 AVX512F FMA, in other operations, rebuild TensorFlow with the appropriate compiler flags.\n"
     ]
    }
   ],
   "source": [
    "# !pip install tensorflow\n",
    "import numpy as np\n",
    "import tensorflow as tf\n",
    "from sklearn.model_selection import train_test_split\n",
    "import pandas as pd\n",
    "import os\n",
    "import matplotlib.pyplot as plt\n",
    "from keras.models import Sequential\n",
    "from keras.layers import Dense, Conv1D, Flatten , Input"
   ]
  },
  {
   "cell_type": "code",
   "execution_count": 3,
   "metadata": {
    "id": "NjP_8lzdLEKD"
   },
   "outputs": [
    {
     "name": "stdout",
     "output_type": "stream",
     "text": [
      "       Unnamed: 0     Date       Q       SWE    SWE_scaled\n",
      "0               0  2018-08  24.526  2.087791  1.809042e+06\n",
      "1               1  2018-09  31.372  1.835435  1.590379e+06\n",
      "2               2  2018-10  19.572  1.976332  1.712464e+06\n",
      "3               3  2018-11   7.349  1.633273  1.415208e+06\n",
      "4               4  2018-12  13.824  1.782850  1.544815e+06\n",
      "...           ...      ...     ...       ...           ...\n",
      "23053          57  2023-05   3.046  3.400061  5.610100e+04\n",
      "23054          58  2023-06   2.489  3.195970  5.273351e+04\n",
      "23055          59  2023-07   2.021  3.656259  6.032828e+04\n",
      "23056          60  2023-08   2.067  3.578097  5.903860e+04\n",
      "23057          61  2023-09   2.483  3.630205  5.989839e+04\n",
      "\n",
      "[23058 rows x 5 columns]\n"
     ]
    }
   ],
   "source": [
    "opened = []\n",
    "\n",
    "csv_path = '/global/scratch/users/arvalcarcel/CSMUB/RESULTS/CSV/'\n",
    "\n",
    "masterlist = '/global/scratch/users/arvalcarcel/CSMUB/RESULTS/ALL_STATIONS_FINAL_REVISED.csv'\n",
    "\n",
    "stations_df = pd.read_csv(masterlist)\n",
    "station_num = stations_df['grdc_no']\n",
    "\n",
    "arrayFile = [os.path.join(csv_path, f\"{station_no}.csv\") for station_no in station_num]\n",
    "\n",
    "for file in arrayFile:\n",
    "  df = pd.read_csv(file, index_col= None, header = 0)\n",
    "  opened.append(df)\n",
    "\n",
    "total_df = pd.concat(opened, axis = 0, ignore_index = True)\n",
    "print(total_df)"
   ]
  },
  {
   "cell_type": "code",
   "execution_count": 4,
   "metadata": {},
   "outputs": [],
   "source": [
    "q = total_df['Q']\n",
    "swe = total_df['SWE']\n",
    "scaled = total_df['SWE_scaled']"
   ]
  },
  {
   "cell_type": "code",
   "execution_count": 5,
   "metadata": {},
   "outputs": [],
   "source": [
    "import numpy as np\n",
    "import pandas as pd\n",
    "from sklearn.model_selection import train_test_split\n",
    "from sklearn.preprocessing import MinMaxScaler\n",
    "from tensorflow.keras.models import Sequential\n",
    "from tensorflow.keras.layers import Dense, LeakyReLU\n",
    "\n",
    "# Convert q and swe to NumPy arrays\n",
    "X = scaled.to_numpy()  # This will be 1D: shape (num_samples,)\n",
    "y = q.to_numpy()\n",
    "\n",
    "# Assume X and y are your 1D time series arrays\n",
    "# Step 1: Replace zeros with a small value\n",
    "X[X == 0] = 1e-9\n",
    "y[y == 0] = 1e-9\n",
    "\n",
    "# Step 2: Reshape data (if needed)\n",
    "X = X.reshape(-1, 1)\n",
    "y = y.reshape(-1, 1)\n",
    "\n",
    "# Step 3: Scale the data\n",
    "scaler_X = MinMaxScaler()\n",
    "scaler_y = MinMaxScaler()\n",
    "\n",
    "X_scaled = scaler_X.fit_transform(X)\n",
    "y_scaled = scaler_y.fit_transform(y)"
   ]
  },
  {
   "cell_type": "code",
   "execution_count": 6,
   "metadata": {},
   "outputs": [],
   "source": [
    "# Split into training and validation sets\n",
    "from sklearn.model_selection import train_test_split\n",
    "X_train, X_val, y_train, y_val = train_test_split(X, y, test_size=0.2, random_state=42)"
   ]
  },
  {
   "cell_type": "code",
   "execution_count": 7,
   "metadata": {},
   "outputs": [
    {
     "name": "stdout",
     "output_type": "stream",
     "text": [
      "Epoch 1/100\n"
     ]
    },
    {
     "name": "stderr",
     "output_type": "stream",
     "text": [
      "/global/home/users/arvalcarcel/.local/lib/python3.11/site-packages/keras/src/layers/convolutional/base_conv.py:107: UserWarning: Do not pass an `input_shape`/`input_dim` argument to a layer. When using Sequential models, prefer using an `Input(shape)` object as the first layer in the model instead.\n",
      "  super().__init__(activity_regularizer=activity_regularizer, **kwargs)\n",
      "2024-12-07 12:21:23.293314: E external/local_xla/xla/stream_executor/cuda/cuda_driver.cc:152] failed call to cuInit: INTERNAL: CUDA error: Failed call to cuInit: CUDA_ERROR_NO_DEVICE: no CUDA-capable device is detected\n"
     ]
    },
    {
     "name": "stdout",
     "output_type": "stream",
     "text": [
      "\u001b[1m577/577\u001b[0m \u001b[32m━━━━━━━━━━━━━━━━━━━━\u001b[0m\u001b[37m\u001b[0m \u001b[1m2s\u001b[0m 2ms/step - loss: 307.0329 - mae: 3070.3774 - val_loss: 194.1766 - val_mae: 1941.8170\n",
      "Epoch 2/100\n",
      "\u001b[1m577/577\u001b[0m \u001b[32m━━━━━━━━━━━━━━━━━━━━\u001b[0m\u001b[37m\u001b[0m \u001b[1m1s\u001b[0m 2ms/step - loss: 182.2989 - mae: 1823.0389 - val_loss: 347.6381 - val_mae: 3476.4319\n",
      "Epoch 3/100\n",
      "\u001b[1m577/577\u001b[0m \u001b[32m━━━━━━━━━━━━━━━━━━━━\u001b[0m\u001b[37m\u001b[0m \u001b[1m1s\u001b[0m 1ms/step - loss: 164.5828 - mae: 1645.8776 - val_loss: 104.6897 - val_mae: 1046.9471\n",
      "Epoch 4/100\n",
      "\u001b[1m577/577\u001b[0m \u001b[32m━━━━━━━━━━━━━━━━━━━━\u001b[0m\u001b[37m\u001b[0m \u001b[1m1s\u001b[0m 1ms/step - loss: 122.8997 - mae: 1229.0471 - val_loss: 267.7350 - val_mae: 2677.3997\n",
      "Epoch 5/100\n",
      "\u001b[1m577/577\u001b[0m \u001b[32m━━━━━━━━━━━━━━━━━━━━\u001b[0m\u001b[37m\u001b[0m \u001b[1m1s\u001b[0m 1ms/step - loss: 106.4429 - mae: 1064.4785 - val_loss: 82.5746 - val_mae: 825.7955\n",
      "Epoch 6/100\n",
      "\u001b[1m577/577\u001b[0m \u001b[32m━━━━━━━━━━━━━━━━━━━━\u001b[0m\u001b[37m\u001b[0m \u001b[1m1s\u001b[0m 2ms/step - loss: 104.2354 - mae: 1042.4041 - val_loss: 84.6627 - val_mae: 846.6765\n",
      "Epoch 7/100\n",
      "\u001b[1m577/577\u001b[0m \u001b[32m━━━━━━━━━━━━━━━━━━━━\u001b[0m\u001b[37m\u001b[0m \u001b[1m1s\u001b[0m 2ms/step - loss: 91.2406 - mae: 912.4559 - val_loss: 83.4771 - val_mae: 834.8217\n",
      "Epoch 8/100\n",
      "\u001b[1m577/577\u001b[0m \u001b[32m━━━━━━━━━━━━━━━━━━━━\u001b[0m\u001b[37m\u001b[0m \u001b[1m1s\u001b[0m 2ms/step - loss: 74.4015 - mae: 744.0656 - val_loss: 83.9052 - val_mae: 839.1017\n",
      "Epoch 9/100\n",
      "\u001b[1m577/577\u001b[0m \u001b[32m━━━━━━━━━━━━━━━━━━━━\u001b[0m\u001b[37m\u001b[0m \u001b[1m1s\u001b[0m 1ms/step - loss: 81.1200 - mae: 811.2496 - val_loss: 84.9982 - val_mae: 850.0323\n",
      "Epoch 10/100\n",
      "\u001b[1m577/577\u001b[0m \u001b[32m━━━━━━━━━━━━━━━━━━━━\u001b[0m\u001b[37m\u001b[0m \u001b[1m1s\u001b[0m 2ms/step - loss: 92.1000 - mae: 921.0500 - val_loss: 84.7824 - val_mae: 847.8734\n",
      "Epoch 11/100\n",
      "\u001b[1m577/577\u001b[0m \u001b[32m━━━━━━━━━━━━━━━━━━━━\u001b[0m\u001b[37m\u001b[0m \u001b[1m1s\u001b[0m 2ms/step - loss: 84.4046 - mae: 844.0958 - val_loss: 82.4955 - val_mae: 825.0046\n",
      "Epoch 12/100\n",
      "\u001b[1m577/577\u001b[0m \u001b[32m━━━━━━━━━━━━━━━━━━━━\u001b[0m\u001b[37m\u001b[0m \u001b[1m1s\u001b[0m 1ms/step - loss: 91.5995 - mae: 916.0453 - val_loss: 83.3128 - val_mae: 833.1780\n",
      "Epoch 13/100\n",
      "\u001b[1m577/577\u001b[0m \u001b[32m━━━━━━━━━━━━━━━━━━━━\u001b[0m\u001b[37m\u001b[0m \u001b[1m1s\u001b[0m 2ms/step - loss: 86.6515 - mae: 866.5647 - val_loss: 82.8483 - val_mae: 828.5333\n",
      "Epoch 14/100\n",
      "\u001b[1m577/577\u001b[0m \u001b[32m━━━━━━━━━━━━━━━━━━━━\u001b[0m\u001b[37m\u001b[0m \u001b[1m1s\u001b[0m 2ms/step - loss: 83.5228 - mae: 835.2776 - val_loss: 85.9409 - val_mae: 859.4583\n",
      "Epoch 15/100\n",
      "\u001b[1m577/577\u001b[0m \u001b[32m━━━━━━━━━━━━━━━━━━━━\u001b[0m\u001b[37m\u001b[0m \u001b[1m1s\u001b[0m 2ms/step - loss: 87.8777 - mae: 878.8271 - val_loss: 82.9966 - val_mae: 830.0162\n",
      "Epoch 16/100\n",
      "\u001b[1m577/577\u001b[0m \u001b[32m━━━━━━━━━━━━━━━━━━━━\u001b[0m\u001b[37m\u001b[0m \u001b[1m1s\u001b[0m 2ms/step - loss: 88.2684 - mae: 882.7335 - val_loss: 86.3991 - val_mae: 864.0399\n",
      "Epoch 17/100\n",
      "\u001b[1m577/577\u001b[0m \u001b[32m━━━━━━━━━━━━━━━━━━━━\u001b[0m\u001b[37m\u001b[0m \u001b[1m1s\u001b[0m 2ms/step - loss: 85.9804 - mae: 859.8541 - val_loss: 83.6434 - val_mae: 836.4838\n",
      "Epoch 18/100\n",
      "\u001b[1m577/577\u001b[0m \u001b[32m━━━━━━━━━━━━━━━━━━━━\u001b[0m\u001b[37m\u001b[0m \u001b[1m1s\u001b[0m 2ms/step - loss: 88.7241 - mae: 887.2906 - val_loss: 84.6081 - val_mae: 846.1312\n",
      "Epoch 19/100\n",
      "\u001b[1m577/577\u001b[0m \u001b[32m━━━━━━━━━━━━━━━━━━━━\u001b[0m\u001b[37m\u001b[0m \u001b[1m1s\u001b[0m 2ms/step - loss: 85.3282 - mae: 853.3317 - val_loss: 87.7593 - val_mae: 877.6427\n",
      "Epoch 20/100\n",
      "\u001b[1m577/577\u001b[0m \u001b[32m━━━━━━━━━━━━━━━━━━━━\u001b[0m\u001b[37m\u001b[0m \u001b[1m1s\u001b[0m 2ms/step - loss: 79.0364 - mae: 790.4146 - val_loss: 93.2870 - val_mae: 932.9203\n",
      "Epoch 21/100\n",
      "\u001b[1m577/577\u001b[0m \u001b[32m━━━━━━━━━━━━━━━━━━━━\u001b[0m\u001b[37m\u001b[0m \u001b[1m1s\u001b[0m 2ms/step - loss: 88.5863 - mae: 885.9134 - val_loss: 84.9986 - val_mae: 850.0360\n",
      "Epoch 22/100\n",
      "\u001b[1m577/577\u001b[0m \u001b[32m━━━━━━━━━━━━━━━━━━━━\u001b[0m\u001b[37m\u001b[0m \u001b[1m1s\u001b[0m 2ms/step - loss: 91.9939 - mae: 919.9893 - val_loss: 97.7896 - val_mae: 977.9457\n",
      "Epoch 23/100\n",
      "\u001b[1m577/577\u001b[0m \u001b[32m━━━━━━━━━━━━━━━━━━━━\u001b[0m\u001b[37m\u001b[0m \u001b[1m1s\u001b[0m 2ms/step - loss: 90.6435 - mae: 906.4849 - val_loss: 97.6278 - val_mae: 976.3276\n",
      "Epoch 24/100\n",
      "\u001b[1m577/577\u001b[0m \u001b[32m━━━━━━━━━━━━━━━━━━━━\u001b[0m\u001b[37m\u001b[0m \u001b[1m1s\u001b[0m 1ms/step - loss: 104.3249 - mae: 1043.2992 - val_loss: 87.6106 - val_mae: 876.1562\n",
      "Epoch 25/100\n",
      "\u001b[1m577/577\u001b[0m \u001b[32m━━━━━━━━━━━━━━━━━━━━\u001b[0m\u001b[37m\u001b[0m \u001b[1m1s\u001b[0m 2ms/step - loss: 86.6509 - mae: 866.5594 - val_loss: 83.1293 - val_mae: 831.3428\n",
      "Epoch 26/100\n",
      "\u001b[1m577/577\u001b[0m \u001b[32m━━━━━━━━━━━━━━━━━━━━\u001b[0m\u001b[37m\u001b[0m \u001b[1m1s\u001b[0m 2ms/step - loss: 86.3720 - mae: 863.7695 - val_loss: 82.5656 - val_mae: 825.7062\n",
      "Epoch 27/100\n",
      "\u001b[1m577/577\u001b[0m \u001b[32m━━━━━━━━━━━━━━━━━━━━\u001b[0m\u001b[37m\u001b[0m \u001b[1m1s\u001b[0m 1ms/step - loss: 88.3720 - mae: 883.7698 - val_loss: 89.5750 - val_mae: 895.7993\n",
      "Epoch 28/100\n",
      "\u001b[1m577/577\u001b[0m \u001b[32m━━━━━━━━━━━━━━━━━━━━\u001b[0m\u001b[37m\u001b[0m \u001b[1m1s\u001b[0m 2ms/step - loss: 80.3960 - mae: 804.0095 - val_loss: 97.6257 - val_mae: 976.3066\n",
      "Epoch 29/100\n",
      "\u001b[1m577/577\u001b[0m \u001b[32m━━━━━━━━━━━━━━━━━━━━\u001b[0m\u001b[37m\u001b[0m \u001b[1m1s\u001b[0m 2ms/step - loss: 102.3789 - mae: 1023.8387 - val_loss: 97.4686 - val_mae: 974.7365\n",
      "Epoch 30/100\n",
      "\u001b[1m577/577\u001b[0m \u001b[32m━━━━━━━━━━━━━━━━━━━━\u001b[0m\u001b[37m\u001b[0m \u001b[1m1s\u001b[0m 2ms/step - loss: 106.0178 - mae: 1060.2280 - val_loss: 97.4152 - val_mae: 974.2018\n",
      "Epoch 31/100\n",
      "\u001b[1m577/577\u001b[0m \u001b[32m━━━━━━━━━━━━━━━━━━━━\u001b[0m\u001b[37m\u001b[0m \u001b[1m1s\u001b[0m 1ms/step - loss: 97.5003 - mae: 975.0526 - val_loss: 97.3637 - val_mae: 973.6865\n",
      "Epoch 32/100\n",
      "\u001b[1m577/577\u001b[0m \u001b[32m━━━━━━━━━━━━━━━━━━━━\u001b[0m\u001b[37m\u001b[0m \u001b[1m1s\u001b[0m 2ms/step - loss: 90.9802 - mae: 909.8522 - val_loss: 97.3084 - val_mae: 973.1346\n",
      "Epoch 33/100\n",
      "\u001b[1m577/577\u001b[0m \u001b[32m━━━━━━━━━━━━━━━━━━━━\u001b[0m\u001b[37m\u001b[0m \u001b[1m1s\u001b[0m 2ms/step - loss: 96.4176 - mae: 964.2256 - val_loss: 97.2471 - val_mae: 972.5208\n",
      "Epoch 34/100\n",
      "\u001b[1m577/577\u001b[0m \u001b[32m━━━━━━━━━━━━━━━━━━━━\u001b[0m\u001b[37m\u001b[0m \u001b[1m1s\u001b[0m 1ms/step - loss: 95.7897 - mae: 957.9466 - val_loss: 97.1804 - val_mae: 971.8541\n",
      "Epoch 35/100\n",
      "\u001b[1m577/577\u001b[0m \u001b[32m━━━━━━━━━━━━━━━━━━━━\u001b[0m\u001b[37m\u001b[0m \u001b[1m1s\u001b[0m 1ms/step - loss: 105.5487 - mae: 1055.5369 - val_loss: 97.1667 - val_mae: 971.7166\n",
      "Epoch 36/100\n",
      "\u001b[1m577/577\u001b[0m \u001b[32m━━━━━━━━━━━━━━━━━━━━\u001b[0m\u001b[37m\u001b[0m \u001b[1m1s\u001b[0m 2ms/step - loss: 102.6713 - mae: 1026.7635 - val_loss: 97.1405 - val_mae: 971.4547\n",
      "Epoch 37/100\n",
      "\u001b[1m577/577\u001b[0m \u001b[32m━━━━━━━━━━━━━━━━━━━━\u001b[0m\u001b[37m\u001b[0m \u001b[1m1s\u001b[0m 2ms/step - loss: 90.4683 - mae: 904.7326 - val_loss: 97.1133 - val_mae: 971.1831\n",
      "Epoch 38/100\n",
      "\u001b[1m577/577\u001b[0m \u001b[32m━━━━━━━━━━━━━━━━━━━━\u001b[0m\u001b[37m\u001b[0m \u001b[1m1s\u001b[0m 2ms/step - loss: 97.8819 - mae: 978.8682 - val_loss: 97.0845 - val_mae: 970.8948\n",
      "Epoch 39/100\n",
      "\u001b[1m577/577\u001b[0m \u001b[32m━━━━━━━━━━━━━━━━━━━━\u001b[0m\u001b[37m\u001b[0m \u001b[1m1s\u001b[0m 2ms/step - loss: 98.1148 - mae: 981.1980 - val_loss: 97.0540 - val_mae: 970.5904\n",
      "Epoch 40/100\n",
      "\u001b[1m577/577\u001b[0m \u001b[32m━━━━━━━━━━━━━━━━━━━━\u001b[0m\u001b[37m\u001b[0m \u001b[1m1s\u001b[0m 2ms/step - loss: 92.8872 - mae: 928.9220 - val_loss: 97.0221 - val_mae: 970.2715\n",
      "Epoch 41/100\n",
      "\u001b[1m577/577\u001b[0m \u001b[32m━━━━━━━━━━━━━━━━━━━━\u001b[0m\u001b[37m\u001b[0m \u001b[1m1s\u001b[0m 1ms/step - loss: 95.7514 - mae: 957.5643 - val_loss: 96.9898 - val_mae: 969.9478\n",
      "Epoch 42/100\n",
      "\u001b[1m577/577\u001b[0m \u001b[32m━━━━━━━━━━━━━━━━━━━━\u001b[0m\u001b[37m\u001b[0m \u001b[1m1s\u001b[0m 2ms/step - loss: 90.3304 - mae: 903.3536 - val_loss: 96.9590 - val_mae: 969.6401\n",
      "Epoch 43/100\n",
      "\u001b[1m577/577\u001b[0m \u001b[32m━━━━━━━━━━━━━━━━━━━━\u001b[0m\u001b[37m\u001b[0m \u001b[1m1s\u001b[0m 2ms/step - loss: 90.7211 - mae: 907.2609 - val_loss: 96.9321 - val_mae: 969.3716\n",
      "Epoch 44/100\n",
      "\u001b[1m577/577\u001b[0m \u001b[32m━━━━━━━━━━━━━━━━━━━━\u001b[0m\u001b[37m\u001b[0m \u001b[1m1s\u001b[0m 2ms/step - loss: 100.7059 - mae: 1007.1085 - val_loss: 96.9102 - val_mae: 969.1516\n",
      "Epoch 45/100\n",
      "\u001b[1m577/577\u001b[0m \u001b[32m━━━━━━━━━━━━━━━━━━━━\u001b[0m\u001b[37m\u001b[0m \u001b[1m1s\u001b[0m 2ms/step - loss: 90.8428 - mae: 908.4779 - val_loss: 96.8948 - val_mae: 968.9980\n",
      "Epoch 46/100\n",
      "\u001b[1m577/577\u001b[0m \u001b[32m━━━━━━━━━━━━━━━━━━━━\u001b[0m\u001b[37m\u001b[0m \u001b[1m1s\u001b[0m 2ms/step - loss: 90.3649 - mae: 903.6987 - val_loss: 96.8854 - val_mae: 968.9034\n",
      "Epoch 47/100\n",
      "\u001b[1m577/577\u001b[0m \u001b[32m━━━━━━━━━━━━━━━━━━━━\u001b[0m\u001b[37m\u001b[0m \u001b[1m1s\u001b[0m 2ms/step - loss: 94.8734 - mae: 948.7841 - val_loss: 96.8804 - val_mae: 968.8543\n",
      "Epoch 48/100\n",
      "\u001b[1m577/577\u001b[0m \u001b[32m━━━━━━━━━━━━━━━━━━━━\u001b[0m\u001b[37m\u001b[0m \u001b[1m1s\u001b[0m 2ms/step - loss: 94.3894 - mae: 943.9443 - val_loss: 96.8778 - val_mae: 968.8282\n",
      "Epoch 49/100\n",
      "\u001b[1m577/577\u001b[0m \u001b[32m━━━━━━━━━━━━━━━━━━━━\u001b[0m\u001b[37m\u001b[0m \u001b[1m1s\u001b[0m 2ms/step - loss: 98.1978 - mae: 982.0274 - val_loss: 96.8772 - val_mae: 968.8224\n",
      "Epoch 50/100\n",
      "\u001b[1m577/577\u001b[0m \u001b[32m━━━━━━━━━━━━━━━━━━━━\u001b[0m\u001b[37m\u001b[0m \u001b[1m1s\u001b[0m 1ms/step - loss: 93.3398 - mae: 933.4481 - val_loss: 96.8769 - val_mae: 968.8196\n",
      "Epoch 51/100\n",
      "\u001b[1m577/577\u001b[0m \u001b[32m━━━━━━━━━━━━━━━━━━━━\u001b[0m\u001b[37m\u001b[0m \u001b[1m1s\u001b[0m 2ms/step - loss: 96.4668 - mae: 964.7175 - val_loss: 96.8770 - val_mae: 968.8205\n",
      "Epoch 52/100\n",
      "\u001b[1m577/577\u001b[0m \u001b[32m━━━━━━━━━━━━━━━━━━━━\u001b[0m\u001b[37m\u001b[0m \u001b[1m1s\u001b[0m 2ms/step - loss: 90.1474 - mae: 901.5236 - val_loss: 96.8771 - val_mae: 968.8209\n",
      "Epoch 53/100\n",
      "\u001b[1m577/577\u001b[0m \u001b[32m━━━━━━━━━━━━━━━━━━━━\u001b[0m\u001b[37m\u001b[0m \u001b[1m1s\u001b[0m 2ms/step - loss: 98.1193 - mae: 981.2433 - val_loss: 96.8774 - val_mae: 968.8242\n",
      "Epoch 54/100\n",
      "\u001b[1m577/577\u001b[0m \u001b[32m━━━━━━━━━━━━━━━━━━━━\u001b[0m\u001b[37m\u001b[0m \u001b[1m1s\u001b[0m 2ms/step - loss: 93.5375 - mae: 935.4246 - val_loss: 96.8771 - val_mae: 968.8214\n",
      "Epoch 55/100\n",
      "\u001b[1m577/577\u001b[0m \u001b[32m━━━━━━━━━━━━━━━━━━━━\u001b[0m\u001b[37m\u001b[0m \u001b[1m1s\u001b[0m 1ms/step - loss: 93.7914 - mae: 937.9639 - val_loss: 96.8776 - val_mae: 968.8259\n",
      "Epoch 56/100\n",
      "\u001b[1m577/577\u001b[0m \u001b[32m━━━━━━━━━━━━━━━━━━━━\u001b[0m\u001b[37m\u001b[0m \u001b[1m1s\u001b[0m 2ms/step - loss: 100.0898 - mae: 1000.9480 - val_loss: 96.8772 - val_mae: 968.8217\n",
      "Epoch 57/100\n",
      "\u001b[1m577/577\u001b[0m \u001b[32m━━━━━━━━━━━━━━━━━━━━\u001b[0m\u001b[37m\u001b[0m \u001b[1m1s\u001b[0m 2ms/step - loss: 101.5747 - mae: 1015.7972 - val_loss: 96.8776 - val_mae: 968.8257\n",
      "Epoch 58/100\n",
      "\u001b[1m577/577\u001b[0m \u001b[32m━━━━━━━━━━━━━━━━━━━━\u001b[0m\u001b[37m\u001b[0m \u001b[1m1s\u001b[0m 1ms/step - loss: 97.3169 - mae: 973.2186 - val_loss: 96.8774 - val_mae: 968.8243\n",
      "Epoch 59/100\n",
      "\u001b[1m577/577\u001b[0m \u001b[32m━━━━━━━━━━━━━━━━━━━━\u001b[0m\u001b[37m\u001b[0m \u001b[1m1s\u001b[0m 1ms/step - loss: 95.9328 - mae: 959.3782 - val_loss: 96.8772 - val_mae: 968.8214\n",
      "Epoch 60/100\n",
      "\u001b[1m577/577\u001b[0m \u001b[32m━━━━━━━━━━━━━━━━━━━━\u001b[0m\u001b[37m\u001b[0m \u001b[1m1s\u001b[0m 2ms/step - loss: 85.9073 - mae: 859.1230 - val_loss: 96.8774 - val_mae: 968.8243\n",
      "Epoch 61/100\n",
      "\u001b[1m577/577\u001b[0m \u001b[32m━━━━━━━━━━━━━━━━━━━━\u001b[0m\u001b[37m\u001b[0m \u001b[1m1s\u001b[0m 2ms/step - loss: 95.1527 - mae: 951.5770 - val_loss: 96.8772 - val_mae: 968.8224\n",
      "Epoch 62/100\n",
      "\u001b[1m577/577\u001b[0m \u001b[32m━━━━━━━━━━━━━━━━━━━━\u001b[0m\u001b[37m\u001b[0m \u001b[1m1s\u001b[0m 2ms/step - loss: 97.4825 - mae: 974.8756 - val_loss: 96.8771 - val_mae: 968.8212\n",
      "Epoch 63/100\n",
      "\u001b[1m577/577\u001b[0m \u001b[32m━━━━━━━━━━━━━━━━━━━━\u001b[0m\u001b[37m\u001b[0m \u001b[1m1s\u001b[0m 2ms/step - loss: 91.6248 - mae: 916.2980 - val_loss: 96.8772 - val_mae: 968.8223\n",
      "Epoch 64/100\n",
      "\u001b[1m577/577\u001b[0m \u001b[32m━━━━━━━━━━━━━━━━━━━━\u001b[0m\u001b[37m\u001b[0m \u001b[1m1s\u001b[0m 1ms/step - loss: 86.4817 - mae: 864.8672 - val_loss: 96.8774 - val_mae: 968.8243\n",
      "Epoch 65/100\n",
      "\u001b[1m577/577\u001b[0m \u001b[32m━━━━━━━━━━━━━━━━━━━━\u001b[0m\u001b[37m\u001b[0m \u001b[1m1s\u001b[0m 1ms/step - loss: 93.5417 - mae: 935.4676 - val_loss: 96.8774 - val_mae: 968.8243\n",
      "Epoch 66/100\n",
      "\u001b[1m577/577\u001b[0m \u001b[32m━━━━━━━━━━━━━━━━━━━━\u001b[0m\u001b[37m\u001b[0m \u001b[1m1s\u001b[0m 2ms/step - loss: 97.9578 - mae: 979.6274 - val_loss: 96.8773 - val_mae: 968.8226\n",
      "Epoch 67/100\n",
      "\u001b[1m577/577\u001b[0m \u001b[32m━━━━━━━━━━━━━━━━━━━━\u001b[0m\u001b[37m\u001b[0m \u001b[1m1s\u001b[0m 2ms/step - loss: 91.6784 - mae: 916.8339 - val_loss: 96.8772 - val_mae: 968.8219\n",
      "Epoch 68/100\n",
      "\u001b[1m577/577\u001b[0m \u001b[32m━━━━━━━━━━━━━━━━━━━━\u001b[0m\u001b[37m\u001b[0m \u001b[1m1s\u001b[0m 2ms/step - loss: 99.0534 - mae: 990.5838 - val_loss: 96.8777 - val_mae: 968.8271\n",
      "Epoch 69/100\n",
      "\u001b[1m577/577\u001b[0m \u001b[32m━━━━━━━━━━━━━━━━━━━━\u001b[0m\u001b[37m\u001b[0m \u001b[1m1s\u001b[0m 2ms/step - loss: 87.8752 - mae: 878.8016 - val_loss: 96.8775 - val_mae: 968.8253\n",
      "Epoch 70/100\n",
      "\u001b[1m577/577\u001b[0m \u001b[32m━━━━━━━━━━━━━━━━━━━━\u001b[0m\u001b[37m\u001b[0m \u001b[1m1s\u001b[0m 2ms/step - loss: 98.1803 - mae: 981.8528 - val_loss: 96.8776 - val_mae: 968.8258\n",
      "Epoch 71/100\n",
      "\u001b[1m577/577\u001b[0m \u001b[32m━━━━━━━━━━━━━━━━━━━━\u001b[0m\u001b[37m\u001b[0m \u001b[1m1s\u001b[0m 2ms/step - loss: 94.3298 - mae: 943.3482 - val_loss: 96.8780 - val_mae: 968.8300\n",
      "Epoch 72/100\n",
      "\u001b[1m577/577\u001b[0m \u001b[32m━━━━━━━━━━━━━━━━━━━━\u001b[0m\u001b[37m\u001b[0m \u001b[1m1s\u001b[0m 2ms/step - loss: 97.9001 - mae: 979.0504 - val_loss: 96.8776 - val_mae: 968.8257\n",
      "Epoch 73/100\n",
      "\u001b[1m577/577\u001b[0m \u001b[32m━━━━━━━━━━━━━━━━━━━━\u001b[0m\u001b[37m\u001b[0m \u001b[1m1s\u001b[0m 2ms/step - loss: 96.2714 - mae: 962.7639 - val_loss: 96.8774 - val_mae: 968.8240\n",
      "Epoch 74/100\n",
      "\u001b[1m577/577\u001b[0m \u001b[32m━━━━━━━━━━━━━━━━━━━━\u001b[0m\u001b[37m\u001b[0m \u001b[1m1s\u001b[0m 2ms/step - loss: 96.8935 - mae: 968.9849 - val_loss: 96.8774 - val_mae: 968.8245\n",
      "Epoch 75/100\n",
      "\u001b[1m577/577\u001b[0m \u001b[32m━━━━━━━━━━━━━━━━━━━━\u001b[0m\u001b[37m\u001b[0m \u001b[1m1s\u001b[0m 2ms/step - loss: 105.1359 - mae: 1051.4093 - val_loss: 96.8771 - val_mae: 968.8214\n",
      "Epoch 76/100\n",
      "\u001b[1m577/577\u001b[0m \u001b[32m━━━━━━━━━━━━━━━━━━━━\u001b[0m\u001b[37m\u001b[0m \u001b[1m1s\u001b[0m 2ms/step - loss: 96.9956 - mae: 970.0060 - val_loss: 96.8776 - val_mae: 968.8253\n",
      "Epoch 77/100\n",
      "\u001b[1m577/577\u001b[0m \u001b[32m━━━━━━━━━━━━━━━━━━━━\u001b[0m\u001b[37m\u001b[0m \u001b[1m1s\u001b[0m 2ms/step - loss: 100.6276 - mae: 1006.3261 - val_loss: 96.8773 - val_mae: 968.8225\n",
      "Epoch 78/100\n",
      "\u001b[1m577/577\u001b[0m \u001b[32m━━━━━━━━━━━━━━━━━━━━\u001b[0m\u001b[37m\u001b[0m \u001b[1m1s\u001b[0m 2ms/step - loss: 90.4287 - mae: 904.3373 - val_loss: 96.8777 - val_mae: 968.8268\n",
      "Epoch 79/100\n",
      "\u001b[1m577/577\u001b[0m \u001b[32m━━━━━━━━━━━━━━━━━━━━\u001b[0m\u001b[37m\u001b[0m \u001b[1m1s\u001b[0m 2ms/step - loss: 103.7376 - mae: 1037.4255 - val_loss: 96.8774 - val_mae: 968.8243\n",
      "Epoch 80/100\n",
      "\u001b[1m577/577\u001b[0m \u001b[32m━━━━━━━━━━━━━━━━━━━━\u001b[0m\u001b[37m\u001b[0m \u001b[1m1s\u001b[0m 2ms/step - loss: 100.1488 - mae: 1001.5377 - val_loss: 96.8776 - val_mae: 968.8260\n",
      "Epoch 81/100\n",
      "\u001b[1m577/577\u001b[0m \u001b[32m━━━━━━━━━━━━━━━━━━━━\u001b[0m\u001b[37m\u001b[0m \u001b[1m1s\u001b[0m 2ms/step - loss: 101.0793 - mae: 1010.8428 - val_loss: 96.8776 - val_mae: 968.8254\n",
      "Epoch 82/100\n",
      "\u001b[1m577/577\u001b[0m \u001b[32m━━━━━━━━━━━━━━━━━━━━\u001b[0m\u001b[37m\u001b[0m \u001b[1m1s\u001b[0m 1ms/step - loss: 98.6911 - mae: 986.9608 - val_loss: 96.8773 - val_mae: 968.8219\n",
      "Epoch 83/100\n",
      "\u001b[1m577/577\u001b[0m \u001b[32m━━━━━━━━━━━━━━━━━━━━\u001b[0m\u001b[37m\u001b[0m \u001b[1m1s\u001b[0m 1ms/step - loss: 102.4100 - mae: 1024.1501 - val_loss: 96.8772 - val_mae: 968.8225\n",
      "Epoch 84/100\n",
      "\u001b[1m577/577\u001b[0m \u001b[32m━━━━━━━━━━━━━━━━━━━━\u001b[0m\u001b[37m\u001b[0m \u001b[1m1s\u001b[0m 2ms/step - loss: 107.9378 - mae: 1079.4275 - val_loss: 96.8774 - val_mae: 968.8240\n",
      "Epoch 85/100\n",
      "\u001b[1m577/577\u001b[0m \u001b[32m━━━━━━━━━━━━━━━━━━━━\u001b[0m\u001b[37m\u001b[0m \u001b[1m1s\u001b[0m 2ms/step - loss: 97.0911 - mae: 970.9612 - val_loss: 96.8777 - val_mae: 968.8267\n",
      "Epoch 86/100\n",
      "\u001b[1m577/577\u001b[0m \u001b[32m━━━━━━━━━━━━━━━━━━━━\u001b[0m\u001b[37m\u001b[0m \u001b[1m1s\u001b[0m 2ms/step - loss: 93.7302 - mae: 937.3524 - val_loss: 96.8773 - val_mae: 968.8228\n",
      "Epoch 87/100\n",
      "\u001b[1m577/577\u001b[0m \u001b[32m━━━━━━━━━━━━━━━━━━━━\u001b[0m\u001b[37m\u001b[0m \u001b[1m1s\u001b[0m 2ms/step - loss: 96.5830 - mae: 965.8793 - val_loss: 96.8772 - val_mae: 968.8221\n",
      "Epoch 88/100\n",
      "\u001b[1m577/577\u001b[0m \u001b[32m━━━━━━━━━━━━━━━━━━━━\u001b[0m\u001b[37m\u001b[0m \u001b[1m1s\u001b[0m 2ms/step - loss: 91.7927 - mae: 917.9775 - val_loss: 96.8774 - val_mae: 968.8239\n",
      "Epoch 89/100\n",
      "\u001b[1m577/577\u001b[0m \u001b[32m━━━━━━━━━━━━━━━━━━━━\u001b[0m\u001b[37m\u001b[0m \u001b[1m1s\u001b[0m 2ms/step - loss: 105.3030 - mae: 1053.0797 - val_loss: 96.8774 - val_mae: 968.8248\n",
      "Epoch 90/100\n",
      "\u001b[1m577/577\u001b[0m \u001b[32m━━━━━━━━━━━━━━━━━━━━\u001b[0m\u001b[37m\u001b[0m \u001b[1m1s\u001b[0m 1ms/step - loss: 95.1544 - mae: 951.5947 - val_loss: 96.8774 - val_mae: 968.8239\n",
      "Epoch 91/100\n",
      "\u001b[1m577/577\u001b[0m \u001b[32m━━━━━━━━━━━━━━━━━━━━\u001b[0m\u001b[37m\u001b[0m \u001b[1m1s\u001b[0m 2ms/step - loss: 95.8293 - mae: 958.3427 - val_loss: 96.8774 - val_mae: 968.8242\n",
      "Epoch 92/100\n",
      "\u001b[1m577/577\u001b[0m \u001b[32m━━━━━━━━━━━━━━━━━━━━\u001b[0m\u001b[37m\u001b[0m \u001b[1m1s\u001b[0m 2ms/step - loss: 93.6410 - mae: 936.4601 - val_loss: 96.8772 - val_mae: 968.8217\n",
      "Epoch 93/100\n",
      "\u001b[1m577/577\u001b[0m \u001b[32m━━━━━━━━━━━━━━━━━━━━\u001b[0m\u001b[37m\u001b[0m \u001b[1m1s\u001b[0m 2ms/step - loss: 88.1849 - mae: 881.8992 - val_loss: 96.8775 - val_mae: 968.8251\n",
      "Epoch 94/100\n",
      "\u001b[1m577/577\u001b[0m \u001b[32m━━━━━━━━━━━━━━━━━━━━\u001b[0m\u001b[37m\u001b[0m \u001b[1m1s\u001b[0m 2ms/step - loss: 101.4934 - mae: 1014.9838 - val_loss: 96.8775 - val_mae: 968.8253\n",
      "Epoch 95/100\n",
      "\u001b[1m577/577\u001b[0m \u001b[32m━━━━━━━━━━━━━━━━━━━━\u001b[0m\u001b[37m\u001b[0m \u001b[1m1s\u001b[0m 2ms/step - loss: 91.2543 - mae: 912.5928 - val_loss: 96.8774 - val_mae: 968.8233\n",
      "Epoch 96/100\n",
      "\u001b[1m577/577\u001b[0m \u001b[32m━━━━━━━━━━━━━━━━━━━━\u001b[0m\u001b[37m\u001b[0m \u001b[1m1s\u001b[0m 2ms/step - loss: 102.9987 - mae: 1030.0370 - val_loss: 96.8773 - val_mae: 968.8228\n",
      "Epoch 97/100\n",
      "\u001b[1m577/577\u001b[0m \u001b[32m━━━━━━━━━━━━━━━━━━━━\u001b[0m\u001b[37m\u001b[0m \u001b[1m1s\u001b[0m 2ms/step - loss: 100.7678 - mae: 1007.7284 - val_loss: 96.8774 - val_mae: 968.8239\n",
      "Epoch 98/100\n",
      "\u001b[1m577/577\u001b[0m \u001b[32m━━━━━━━━━━━━━━━━━━━━\u001b[0m\u001b[37m\u001b[0m \u001b[1m1s\u001b[0m 1ms/step - loss: 93.9924 - mae: 939.9740 - val_loss: 96.8772 - val_mae: 968.8219\n",
      "Epoch 99/100\n",
      "\u001b[1m577/577\u001b[0m \u001b[32m━━━━━━━━━━━━━━━━━━━━\u001b[0m\u001b[37m\u001b[0m \u001b[1m1s\u001b[0m 1ms/step - loss: 99.8139 - mae: 998.1887 - val_loss: 96.8775 - val_mae: 968.8246\n",
      "Epoch 100/100\n",
      "\u001b[1m577/577\u001b[0m \u001b[32m━━━━━━━━━━━━━━━━━━━━\u001b[0m\u001b[37m\u001b[0m \u001b[1m1s\u001b[0m 1ms/step - loss: 98.4691 - mae: 984.7411 - val_loss: 96.8773 - val_mae: 968.8233\n"
     ]
    }
   ],
   "source": [
    "from tensorflow.keras.models import Sequential\n",
    "from tensorflow.keras.layers import Dense\n",
    "from tensorflow.keras.optimizers import Adam\n",
    "from tensorflow.keras.callbacks import EarlyStopping, ReduceLROnPlateau\n",
    "from tensorflow.keras.regularizers import l2\n",
    "from tensorflow.keras.optimizers import RMSprop, Nadam\n",
    "from tensorflow.keras.losses import Huber\n",
    "\n",
    "# Define a Conv1D model\n",
    "model = tf.keras.Sequential([\n",
    "    tf.keras.layers.Conv1D(128, kernel_size=1, activation='relu', input_shape=(1, 1)),\n",
    "    tf.keras.layers.Flatten(),\n",
    "    tf.keras.layers.Dense(64, activation='relu'),\n",
    "    tf.keras.layers.Dense(32, activation='relu'),\n",
    "    tf.keras.layers.Dense(1)  \n",
    "])\n",
    "\n",
    "# Compile the model\n",
    "model.compile(optimizer=Nadam(learning_rate=1e-3), loss=Huber(delta=0.1), metrics=['mae'])\n",
    "\n",
    "# Train the model\n",
    "CNN = model.fit(X_train, y_train, epochs=100, validation_data=(X_val, y_val))"
   ]
  },
  {
   "cell_type": "code",
   "execution_count": 8,
   "metadata": {},
   "outputs": [],
   "source": [
    "# # Define the model\n",
    "# CNN = Sequential()\n",
    "# CNN.add(Input(shape=(1,1)))  # Adjust to match reshaped input\n",
    "# CNN.add(Conv1D(filters=9332, kernel_size=1, activation='relu'))  # Convolutional layer\n",
    "# CNN.add(Flatten())  # Flatten for the Dense layers\n",
    "# CNN.add(Dense(128, activation='relu'))  # Dense layer\n",
    "# CNN.add(Dense(64, activation='relu'))\n",
    "# CNN.add(Dense(32, activation='relu'))\n",
    "# CNN.add(Dense(12, activation='relu')) \n",
    "# CNN.add(Dense(1))  # Output layer\n",
    "\n",
    "# # Compile the model\n",
    "# CNN.compile(optimizer='adam', loss='mean_squared_error', metrics=['accuracy'])\n",
    "\n",
    "# # Train the model\n",
    "# CNNhistory = CNN.fit(X_train, y_train, epochs=200, validation_data=(X_val, y_val))"
   ]
  },
  {
   "cell_type": "code",
   "execution_count": 9,
   "metadata": {},
   "outputs": [],
   "source": [
    "# # Split into training and validation sets\n",
    "# X_train, X_val, y_train, y_val = train_test_split(X, y, test_size=0.2, random_state=42)\n",
    "\n",
    "# # Define a Conv1D model\n",
    "# model = tf.keras.Sequential([\n",
    "#     tf.keras.layers.Conv1D(32, kernel_size=1, activation='relu', input_shape=(1, 1)),\n",
    "#     tf.keras.layers.Flatten(),\n",
    "#     tf.keras.layers.Dense(64, activation='relu'),\n",
    "#     tf.keras.layers.Dense(1)  \n",
    "# ])\n",
    "\n",
    "# # Compile the model\n",
    "# model.compile(optimizer='adam', loss='mean_squared_error', metrics=['accuracy'])\n",
    "\n",
    "# # Train the model\n",
    "# CNN = model.fit(X_train, y_train, epochs=10, validation_data=(X_val, y_val))"
   ]
  },
  {
   "cell_type": "code",
   "execution_count": 10,
   "metadata": {
    "id": "QgrM9kkGKmgL"
   },
   "outputs": [
    {
     "ename": "AttributeError",
     "evalue": "'History' object has no attribute 'summary'",
     "output_type": "error",
     "traceback": [
      "\u001b[0;31m---------------------------------------------------------------------------\u001b[0m",
      "\u001b[0;31mAttributeError\u001b[0m                            Traceback (most recent call last)",
      "Cell \u001b[0;32mIn[10], line 1\u001b[0m\n\u001b[0;32m----> 1\u001b[0m CNN\u001b[38;5;241m.\u001b[39msummary()\n",
      "\u001b[0;31mAttributeError\u001b[0m: 'History' object has no attribute 'summary'"
     ]
    }
   ],
   "source": [
    "CNN.summary()"
   ]
  },
  {
   "cell_type": "code",
   "execution_count": null,
   "metadata": {},
   "outputs": [],
   "source": [
    "# Plot training and validation loss\n",
    "plt.plot(CNNhistory.history['loss'], label='Training Loss')\n",
    "plt.plot(CNNhistory.history['val_loss'], label='Validation Loss')\n",
    "plt.title('Loss Curve')\n",
    "plt.xlabel('Epochs')\n",
    "plt.ylabel('Loss')\n",
    "plt.legend()\n",
    "plt.show()"
   ]
  },
  {
   "cell_type": "code",
   "execution_count": null,
   "metadata": {},
   "outputs": [],
   "source": [
    "val_loss, val_accuracy = CNN.evaluate(X_val, y_val)\n",
    "print(f\"Validation Loss: {val_loss}\")\n",
    "print(f\"Validation Accuracy: {val_accuracy}\")"
   ]
  },
  {
   "cell_type": "code",
   "execution_count": null,
   "metadata": {
    "id": "mkvP2wsAKs2P"
   },
   "outputs": [],
   "source": [
    "plt.plot(CNNhistory.history['accuracy'],'b')\n",
    "plt.plot(CNNhistory.history['val_accuracy'],'r')\n",
    "plt.title('Model accuracy')\n",
    "plt.ylabel('Accuracy')\n",
    "plt.xlabel('Epoch')\n",
    "plt.legend(['Train', 'Test'], loc='upper left')\n",
    "plt.show()\n",
    "\n",
    "# plt.plot(CNN.history['mae'],'b')\n",
    "# plt.plot(CNN.history['val_mae'],'r')\n",
    "# plt.title('Model Mean Absolute Error')\n",
    "# plt.ylabel('Mean Absolute Error')\n",
    "# plt.xlabel('Epoch')\n",
    "# plt.legend(['Train', 'Test'], loc='upper left')\n",
    "# plt.show()"
   ]
  },
  {
   "cell_type": "code",
   "execution_count": null,
   "metadata": {
    "id": "em6S2gvbKvO1"
   },
   "outputs": [],
   "source": [
    "# Make predictions on the validation set\n",
    "y_pred = CNN.predict(X_val)\n",
    "\n",
    "# Compare predictions with actual values\n",
    "plt.scatter(y_val, y_pred, alpha=0.5)\n",
    "plt.title('Predictions vs Actual Values')\n",
    "plt.xlabel('Actual Values')\n",
    "plt.ylabel('Predicted Values')\n",
    "plt.show()"
   ]
  },
  {
   "cell_type": "code",
   "execution_count": null,
   "metadata": {},
   "outputs": [],
   "source": [
    "from sklearn.metrics import mean_squared_error\n",
    "\n",
    "rms = mean_squared_error(y_val, y_pred, squared=False)\n",
    "print(rms)"
   ]
  }
 ],
 "metadata": {
  "colab": {
   "authorship_tag": "ABX9TyODPmYRmmBSrDr+U8WH2w8r",
   "provenance": []
  },
  "kernelspec": {
   "display_name": "Python 3 (ipykernel)",
   "language": "python",
   "name": "python3"
  },
  "language_info": {
   "codemirror_mode": {
    "name": "ipython",
    "version": 3
   },
   "file_extension": ".py",
   "mimetype": "text/x-python",
   "name": "python",
   "nbconvert_exporter": "python",
   "pygments_lexer": "ipython3",
   "version": "3.11.7"
  }
 },
 "nbformat": 4,
 "nbformat_minor": 4
}
